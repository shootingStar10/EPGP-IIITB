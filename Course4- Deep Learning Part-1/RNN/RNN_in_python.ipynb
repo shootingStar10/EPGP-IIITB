{
  "nbformat": 4,
  "nbformat_minor": 0,
  "metadata": {
    "colab": {
      "provenance": []
    },
    "kernelspec": {
      "name": "python3",
      "display_name": "Python 3"
    },
    "language_info": {
      "name": "python"
    }
  },
  "cells": [
    {
      "cell_type": "code",
      "source": [
        "from keras.models import Sequential\n",
        "from keras.layers import SimpleRNN, Dense, TimeDistributed, LSTM, RepeatVector, Bidirectional, GRU"
      ],
      "metadata": {
        "id": "eAAlY2xwtfYM"
      },
      "execution_count": null,
      "outputs": []
    },
    {
      "cell_type": "markdown",
      "source": [
        "# Vanilla RNN"
      ],
      "metadata": {
        "id": "py2WMRB0tIO0"
      }
    },
    {
      "cell_type": "code",
      "execution_count": null,
      "metadata": {
        "id": "gGaBHsyqrL2p"
      },
      "outputs": [],
      "source": [
        "# define parameters\n",
        "n_output = # number of classes in case of classification, 1 in case of regression\n",
        "output_activation = # “softmax” or “sigmoid” in case of classification, “linear” in case of regression\n",
        "\n",
        "# ---- build RNN architecture ----\n",
        "\n",
        "# instantiate sequential model\n",
        "model = Sequential()\n",
        "\n",
        "# add the first hidden layer\n",
        "n_cells = #number of neurons to add in the hidden layer\n",
        "time_steps = # length of sequences\n",
        "features = # number of features of each entity in the sequence\n",
        "\n",
        "model.add(SimpleRNN(n_cells, input_shape=(time_steps, features)))\n",
        "\n",
        "# add output layer\n",
        "model.add(Dense(n_output, activation=output_activation))"
      ]
    },
    {
      "cell_type": "markdown",
      "source": [
        "# Many to One Architecture"
      ],
      "metadata": {
        "id": "FYxslx0GuYv2"
      }
    },
    {
      "cell_type": "code",
      "source": [
        "# define parameters\n",
        "n_output = # number of classes in case of classification, 1 in case of regression\n",
        "output_activation = # “softmax” or “sigmoid” in case of classification, “linear” in case of regression\n",
        "\n",
        "# instantiate model\n",
        "model = Sequential()\n",
        "\n",
        "# time_steps: multiple input, that is, one input at each timestep\n",
        "model.add(SimpleRNN(n_cells, input_shape=(time_steps, features)))\n",
        "\n",
        "# single output at output layer\n",
        "model.add(Dense(n_classes, activation=output_activation))"
      ],
      "metadata": {
        "id": "wVbT-x8Vug_d"
      },
      "execution_count": null,
      "outputs": []
    },
    {
      "cell_type": "markdown",
      "source": [
        "# Many to Many Architecture"
      ],
      "metadata": {
        "id": "ivMurhAVut-M"
      }
    },
    {
      "cell_type": "code",
      "source": [
        "# instantiate model\n",
        "model = Sequential()\n",
        "\n",
        "# time_steps: multiple input, that is, one input at each timestep\n",
        "model.add(SimpleRNN(n_cells, input_shape=(time_steps, features)))\n",
        "\n",
        "# TimeDistributed(): This function is used when you want your neural network to provide an output at each timestep which is exactly what we want in the many-to-many RNN model.\n",
        "model.add(TimeDistributed(Dense(n_classes, activation=output_activation)))"
      ],
      "metadata": {
        "id": "nW9XWkT8uwvt"
      },
      "execution_count": null,
      "outputs": []
    },
    {
      "cell_type": "markdown",
      "source": [
        "# Encoder Decoder Architecture"
      ],
      "metadata": {
        "id": "NF8ON_QQvW8d"
      }
    },
    {
      "cell_type": "code",
      "source": [
        "# instantiate model\n",
        "model = Sequential()\n",
        "\n",
        "# encoder with multiple inputs\n",
        "model.add(LSTM(n_cells_input, input_shape=(input_timesteps, ...)))\n",
        "\n",
        "# encoded sequence\n",
        "model.add(RepeatVector(output_timesteps))\n",
        "\n",
        "model.add(LSTM(n_cells_output, return_sequences=True))\n",
        "\n",
        "# TimeDistributed(): multiple outputs at the output layer\n",
        "model.add(TimeDistributed(Dense(n_classes, activation=output_activation)))"
      ],
      "metadata": {
        "id": "xQLyEb6Bvcf0"
      },
      "execution_count": null,
      "outputs": []
    },
    {
      "cell_type": "markdown",
      "source": [
        "# One to Many"
      ],
      "metadata": {
        "id": "a7yc84rfwRnm"
      }
    },
    {
      "cell_type": "code",
      "source": [
        "# instantiate model\n",
        "model = Sequential()\n",
        "\n",
        "# time_steps is one in this case because the input consists of only one entity\n",
        "model.add(SimpleRNN(n_cells, input_shape=(1, features)))\n",
        "\n",
        "# TimeDistributed(): multiple outputs at the output layer\n",
        "model.add(TimeDistributed(Dense(n_classes, activation=output_activation)))"
      ],
      "metadata": {
        "id": "tslAch3owT9m"
      },
      "execution_count": null,
      "outputs": []
    },
    {
      "cell_type": "markdown",
      "source": [
        "# Bidirectional RNN"
      ],
      "metadata": {
        "id": "8y9NsvNmwZFu"
      }
    },
    {
      "cell_type": "code",
      "source": [
        "# instantiate model\n",
        "model = Sequential()\n",
        "\n",
        "# bidirectional RNN layer\n",
        "model.add(Bidirectional(SimpleRNN(n_cells, input_shape=(time_steps, features))))\n",
        "\n",
        "# output layer\n",
        "model.add(Dense(n_classes, activation = output_activation))"
      ],
      "metadata": {
        "id": "c63ccp6KwbJF"
      },
      "execution_count": null,
      "outputs": []
    },
    {
      "cell_type": "markdown",
      "source": [
        "# LSTM"
      ],
      "metadata": {
        "id": "uOFX9vNwwgw2"
      }
    },
    {
      "cell_type": "code",
      "source": [
        "# import LSTM layer\n",
        "\n",
        "# instantiate model\n",
        "model = Sequential()\n",
        "\n",
        "# replace the SimpleRNN() layer with LSTM() layer\n",
        "model.add(LSTM(n_cells, input_shape=(time_steps, features)))\n",
        "\n",
        "# output layer\n",
        "model.add(Dense(n_classes, activation=output_activation))"
      ],
      "metadata": {
        "id": "16iWQBwkwh-8"
      },
      "execution_count": null,
      "outputs": []
    },
    {
      "cell_type": "markdown",
      "source": [
        "# GRU"
      ],
      "metadata": {
        "id": "-6NIyecGwl8X"
      }
    },
    {
      "cell_type": "code",
      "source": [
        "# instantiate model\n",
        "model = Sequential()\n",
        "\n",
        "# replace the LSTM() layer with GRU() layer\n",
        "model.add(GRU(n_cells, input_shape=(time_steps, features)))\n",
        "\n",
        "# output layer\n",
        "model.add(Dense(n_classes, activation=output_activation))"
      ],
      "metadata": {
        "id": "viEDYX-Vwmxd"
      },
      "execution_count": null,
      "outputs": []
    }
  ]
}