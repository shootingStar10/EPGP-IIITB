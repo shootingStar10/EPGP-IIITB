{
  "nbformat": 4,
  "nbformat_minor": 0,
  "metadata": {
    "colab": {
      "provenance": []
    },
    "kernelspec": {
      "name": "python3",
      "display_name": "Python 3"
    },
    "language_info": {
      "name": "python"
    }
  },
  "cells": [
    {
      "cell_type": "code",
      "execution_count": null,
      "metadata": {
        "id": "qr-JHscX4A2-"
      },
      "outputs": [],
      "source": [
        "# import libraires\n",
        "import spacy"
      ]
    },
    {
      "cell_type": "markdown",
      "source": [
        "## In-built NER tags"
      ],
      "metadata": {
        "id": "9hnOhSDM4pjs"
      }
    },
    {
      "cell_type": "code",
      "source": [
        "model = spacy.load(\"en_core_web_sm\") #load pre-trained model\n",
        "doc = \"Sumit is an adjunct faculty at Upgrad. \"\n",
        "processed_doc = model(doc) #process input and perform NLP tasks"
      ],
      "metadata": {
        "id": "MmZzFa6b4pK1"
      },
      "execution_count": null,
      "outputs": []
    },
    {
      "cell_type": "code",
      "source": [
        "# information from POS tags\n",
        "for doc in processed_doc:\n",
        "  print(doc.text, '-->', doc.pos_)"
      ],
      "metadata": {
        "colab": {
          "base_uri": "https://localhost:8080/"
        },
        "id": "xr8wN_AS4hex",
        "outputId": "742e0cfa-65b2-48a6-8cfc-d4279f939ae6"
      },
      "execution_count": null,
      "outputs": [
        {
          "output_type": "stream",
          "name": "stdout",
          "text": [
            "Sumit --> NOUN\n",
            "is --> AUX\n",
            "an --> DET\n",
            "adjunct --> ADJ\n",
            "faculty --> NOUN\n",
            "at --> ADP\n",
            "Upgrad --> PROPN\n",
            ". --> PUNCT\n"
          ]
        }
      ]
    },
    {
      "cell_type": "code",
      "source": [
        "# NER tags, NER tag is present in entities section of doc\n",
        "for ent in processed_doc.ents:\n",
        "  print(ent.text, '-->', ent.label_, '-->', ent.start_char, '-->', ent.end_char)"
      ],
      "metadata": {
        "colab": {
          "base_uri": "https://localhost:8080/"
        },
        "id": "aBwrYkF-5QoC",
        "outputId": "7fcf73b6-b8eb-4187-b38a-4d3b7f012861"
      },
      "execution_count": null,
      "outputs": [
        {
          "output_type": "stream",
          "name": "stdout",
          "text": [
            "Upgrad --> ORG --> 31 --> 37\n"
          ]
        }
      ]
    },
    {
      "cell_type": "code",
      "source": [
        "# try another doc\n",
        "doc2 = \"Dr. Sumit is an adjunct faculty at UpGrad\"\n",
        "processed_doc2 = model(doc2)"
      ],
      "metadata": {
        "id": "F16mz-lk5exO"
      },
      "execution_count": null,
      "outputs": []
    },
    {
      "cell_type": "code",
      "source": [
        "# information from POS tags\n",
        "for doc in processed_doc2:\n",
        "  print(doc.text, '-->', doc.pos_)"
      ],
      "metadata": {
        "colab": {
          "base_uri": "https://localhost:8080/"
        },
        "id": "uS8tYqRF6WmR",
        "outputId": "a97978ac-7bbe-4851-b787-5395c6d6cf82"
      },
      "execution_count": null,
      "outputs": [
        {
          "output_type": "stream",
          "name": "stdout",
          "text": [
            "Dr. --> PROPN\n",
            "Sumit --> PROPN\n",
            "is --> AUX\n",
            "an --> DET\n",
            "adjunct --> ADJ\n",
            "faculty --> NOUN\n",
            "at --> ADP\n",
            "UpGrad --> PROPN\n"
          ]
        }
      ]
    },
    {
      "cell_type": "code",
      "source": [
        "# NER tags in another doc\n",
        "for ent in processed_doc2.ents:\n",
        "  print(ent.text, '-->', ent.label_, '-->', ent.start_char, '-->', ent.end_char)"
      ],
      "metadata": {
        "colab": {
          "base_uri": "https://localhost:8080/"
        },
        "id": "ikCmI9eV6buD",
        "outputId": "453c52ca-0263-4abe-cedb-a727e1ae3739"
      },
      "execution_count": null,
      "outputs": [
        {
          "output_type": "stream",
          "name": "stdout",
          "text": [
            "Sumit --> PERSON --> 4 --> 9\n",
            "UpGrad --> ORG --> 35 --> 41\n"
          ]
        }
      ]
    },
    {
      "cell_type": "code",
      "source": [
        "# IOB format tags\n",
        "doc3 = 'Statue of Liberty is situated in New York, USA.'\n",
        "processed_doc3 = model(doc3)\n",
        "\n",
        "for doc in processed_doc3:\n",
        "  print(doc.text, '-->', doc.ent_iob_, '-->', doc.ent_type_)"
      ],
      "metadata": {
        "colab": {
          "base_uri": "https://localhost:8080/"
        },
        "id": "fQFsMyuI7B2l",
        "outputId": "1dc0013e-2494-4b95-ce44-3c34dc0b80c3"
      },
      "execution_count": null,
      "outputs": [
        {
          "output_type": "stream",
          "name": "stdout",
          "text": [
            "Statue --> O --> \n",
            "of --> O --> \n",
            "Liberty --> O --> \n",
            "is --> O --> \n",
            "situated --> O --> \n",
            "in --> O --> \n",
            "New --> B --> GPE\n",
            "York --> I --> GPE\n",
            ", --> O --> \n",
            "USA --> B --> GPE\n",
            ". --> O --> \n"
          ]
        }
      ]
    },
    {
      "cell_type": "code",
      "source": [
        "# anonymization of data\n",
        "\n",
        "email = ('Dear Family, Jose Luis and I have changed our dates, we are '\n",
        "         'going to come to Aspen on the 23rd of December and leave on the '\n",
        "         '30th of December. We would like to stay in the front bedroom of '\n",
        "         'the Aspen Cottage so that Mark, Natalie and Zachary can stay in '\n",
        "         'the guest cottage. Please let me know if there are any problems '\n",
        "         'with this. If I do not hear anything, I will assume this is all '\n",
        "         'o.k. with you.'\n",
        "         'Love, Liz')"
      ],
      "metadata": {
        "id": "PxcwCmnn7cub"
      },
      "execution_count": null,
      "outputs": []
    },
    {
      "cell_type": "code",
      "source": [
        "processed_email = model(email)"
      ],
      "metadata": {
        "id": "zOZgFci_779p"
      },
      "execution_count": null,
      "outputs": []
    },
    {
      "cell_type": "code",
      "source": [
        "anonymized_email = list(email)\n",
        "\n",
        "for ent in processed_email.ents:\n",
        "  if ent.label_ == 'PERSON':\n",
        "    for j in range(ent.start_char, ent.end_char):\n",
        "      anonymized_email[j] = '*'\n",
        "\n",
        "''.join(anonymized_email)"
      ],
      "metadata": {
        "colab": {
          "base_uri": "https://localhost:8080/",
          "height": 70
        },
        "id": "xvV0Zhxg7_C_",
        "outputId": "4a2c0239-e4cc-4386-87d1-5c7007afc186"
      },
      "execution_count": null,
      "outputs": [
        {
          "output_type": "execute_result",
          "data": {
            "text/plain": [
              "'Dear Family, ********* and I have changed our dates, we are going to come to Aspen on the 23rd of December and leave on the 30th of December. We would like to stay in the front bedroom of the Aspen Cottage so that ****, ******* and ******* can stay in the guest cottage. Please let me know if there are any problems with this. If I do not hear anything, I will assume this is all o.k. with you.Love, ***'"
            ],
            "application/vnd.google.colaboratory.intrinsic+json": {
              "type": "string"
            }
          },
          "metadata": {},
          "execution_count": 22
        }
      ]
    },
    {
      "cell_type": "code",
      "source": [
        "case1 = model('I drove away in my Jaguar.')\n",
        "case2 = model('The deer ran away seeing the Jaguar.')\n",
        "\n",
        "for item in case1.ents:\n",
        "  print(item.text, item.label_)\n",
        "\n",
        "for item in case2.ents:\n",
        "  print(item.text, item.label_)"
      ],
      "metadata": {
        "colab": {
          "base_uri": "https://localhost:8080/"
        },
        "id": "REiXTpG78ZWu",
        "outputId": "7890d801-f95e-4fea-effe-87c9c105dab1"
      },
      "execution_count": null,
      "outputs": [
        {
          "output_type": "stream",
          "name": "stdout",
          "text": [
            "Jaguar ORG\n",
            "Jaguar ORG\n"
          ]
        }
      ]
    },
    {
      "cell_type": "code",
      "source": [
        "xx = model('Sofia is watching Game of Thrones on Android TV.')\n",
        "\n",
        "for x in xx:\n",
        "  print(x.text, x.pos_)"
      ],
      "metadata": {
        "colab": {
          "base_uri": "https://localhost:8080/"
        },
        "id": "z6ALGsei_h4w",
        "outputId": "6116fcaa-2e3f-48f1-fe0a-67f4011577d3"
      },
      "execution_count": null,
      "outputs": [
        {
          "output_type": "stream",
          "name": "stdout",
          "text": [
            "Sofia NOUN\n",
            "is AUX\n",
            "watching VERB\n",
            "Game PROPN\n",
            "of ADP\n",
            "Thrones PROPN\n",
            "on ADP\n",
            "Android PROPN\n",
            "TV NOUN\n",
            ". PUNCT\n"
          ]
        }
      ]
    },
    {
      "cell_type": "code",
      "source": [
        "### graded questions\n",
        "\n",
        "import os\n",
        "import nltk\n",
        "from nltk.tokenize import sent_tokenize\n",
        "import spacy"
      ],
      "metadata": {
        "id": "Fd1yq2JgY_nB"
      },
      "execution_count": null,
      "outputs": []
    },
    {
      "cell_type": "code",
      "source": [
        "nltk.download('punkt')"
      ],
      "metadata": {
        "colab": {
          "base_uri": "https://localhost:8080/"
        },
        "id": "PYPStNJpGoOV",
        "outputId": "853c3a78-58db-433d-82ee-7c49ba6fee35"
      },
      "execution_count": null,
      "outputs": [
        {
          "output_type": "stream",
          "name": "stderr",
          "text": [
            "[nltk_data] Downloading package punkt to /root/nltk_data...\n",
            "[nltk_data]   Unzipping tokenizers/punkt.zip.\n"
          ]
        },
        {
          "output_type": "execute_result",
          "data": {
            "text/plain": [
              "True"
            ]
          },
          "metadata": {},
          "execution_count": 7
        }
      ]
    },
    {
      "cell_type": "code",
      "source": [
        "conn = open('/content/sample_data/data.txt')\n",
        "data = conn.read()\n",
        "conn.close()"
      ],
      "metadata": {
        "id": "JVwYXLdDGFjB"
      },
      "execution_count": null,
      "outputs": []
    },
    {
      "cell_type": "code",
      "source": [
        "print(data)"
      ],
      "metadata": {
        "colab": {
          "base_uri": "https://localhost:8080/"
        },
        "id": "C_VbhwU4GPtA",
        "outputId": "ff00e4eb-28d3-4dc8-9c96-db3eab700083"
      },
      "execution_count": null,
      "outputs": [
        {
          "output_type": "stream",
          "name": "stdout",
          "text": [
            "The stock price of a certain company was $100 a year ago, once this company came into boom phase then it's stock price rise to $200. On the other hand, when there was economic depression the stock price was $50. When the company had started the price of its stock was $10, which you can consider as the base price. The stock price of a certain company was $100 a year ago, once this company came into boom phase then it's stock price rise to $200. On the other hand, when there was economic depression the stock price was $50. When the company had started the price of its stock was $10, which you can consider as the base price. The stock price of a certain company was $100 a year ago, once this company came into boom phase then it's stock price rise to $200. On the other hand, when there was economic depression the stock price was $50. When the company had started the price of its stock was $10, which you can consider as the base price. The stock price of a certain company was $100 a year ago, once this company came into boom phase then it's stock price rise to $200. On the other hand, when there was economic depression the stock price was $50. When the company had started the price of its stock was $10, which you can consider as the base price. The stock price of a certain company was $100 a year ago, once this company came into boom phase then it's stock price rise to $200. On the other hand, when there was economic depression the stock price was $50. When the company had started the price of its stock was $10, which you can consider as the base price. The stock price of a certain company was $100 a year ago, once this company came into boom phase then it's stock price rise to $200. On the other hand, when there was economic depression the stock price was $50. When the company had started the price of its stock was $10, which you can consider as the base price. The stock price of a certain company was $100 a year ago, once this company came into boom phase then it's stock price rise to $200. On the other hand, when there was economic depression the stock price was $50. When the company had started the price of its stock was $10, which you can consider as the base price. The stock price of a certain company was $100 a year ago, once this company came into boom phase then it's stock price rise to $200. On the other hand, when there was economic depression the stock price was $50. When the company had started the price of its stock was $10, which you can consider as the base price. The stock price of a certain company was $100 a year ago, once this company came into boom phase then it's stock price rise to $200. On the other hand, when there was economic depression the stock price was $50. When the company had started the price of its stock was $10, which you can consider as the base price. The stock price of a certain company was $100 a year ago, once this company came into boom phase then it's stock price rise to $200. On the other hand, when there was economic depression the stock price was $50. When the company had started the price of its stock was $10, which you can consider as the base price. The stock price of a certain company was $100 a year ago, once this company came into boom phase then it's stock price rise to $200. On the other hand, when there was economic depression the stock price was $50. When the company had started the price of its stock was $10, which you can consider as the base price. The stock price of a certain company was $100 a year ago, once this company came into boom phase then it's stock price rise to $200. On the other hand, when there was economic depression the stock price was $50. When the company had started the price of its stock was $10, which you can consider as the base price. The stock price of a certain company was $100 a year ago, once this company came into boom phase then it's stock price rise to $200. On the other hand, when there was economic depression the stock price was $50. When the company had started the price of its stock was $10, which you can consider as the base price. The stock price of a certain company was $100 a year ago, once this company came into boom phase then it's stock price rise to $90. On the other hand, when there was economic depression the stock price was $50. When the company had started the price of its stock was $10, which you can consider as the base price. The stock price of a certain company was $100 a year ago, once this company came into boom phase then it's stock price rise to $200. On the other hand, when there was economic depression the stock price was $123. When the company had started the price of its stock was $10, which you can consider as the base price. The stock price of a certain company was $100 a year ago, once this company came into boom phase then it's stock price rise to $200. On the other hand, when there was economic depression the stock price was $50. When the company had started the price of its stock was $10, which you can consider as the base price. The stock price of a certain company was $100 a year ago, once this company came into boom phase then it's stock price rise to $200. On the other hand, when there was economic depression the stock price was $50. When the company had started the price of its stock was $10, which you can consider as the base price. The stock price of a certain company was $100 a year ago, once this company came into boom phase then it's stock price rise to $200. On the other hand, when there was economic depression the stock price was $50. When the company had started the price of its stock was $10, which you can consider as the base price. The stock price of a certain company was $100 a year ago, once this company came into boom phase then it's stock price rise to $200. On the other hand, when there was economic depression the stock price was $50. When the company had started the price of its stock was $10, which you can consider as the base price. The stock price of a certain company was $100 a year ago, once this company came into boom phase then it's stock price rise to $200. On the other hand, when there was economic depression the stock price was $53. When the company had started the price of its stock was $10, which you can consider as the base price. The stock price of a certain company was $100 a year ago, once this company came into boom phase then it's stock price rise to $200. On the other hand, when there was economic depression the stock price was $50. When the company had started the price of its stock was $10, which you can consider as the base price. The stock price of a certain company was $100 a year ago, once this company came into boom phase then it's stock price rise to $200. On the other hand, when there was economic depression the stock price was $50. When the company had started the price of its stock was $10, which you can consider as the base price. The stock price of a certain company was $100 a year ago, once this company came into boom phase then it's stock price rise to $200. On the other hand, when there was economic depression the stock price was $50. When the company had started the price of its stock was $10, which you can consider as the base price. The stock price of a certain company was $100 a year ago, once this company came into boom phase then it's stock price rise to $200. On the other hand, when there was economic depression the stock price was $50. When the company had started the price of its stock was $10, which you can consider as the base price. The stock price of a certain company was $100 a year ago, once this company came into boom phase then it's stock price rise to $87. On the other hand, when there was economic depression the stock price was $50. When the company had started the price of its stock was $10, which you can consider as the base price. The stock price of a certain company was $100 a year ago, once this company came into boom phase then it's stock price rise to $200. On the other hand, when there was economic depression the stock price was $50. When the company had started the price of its stock was $10, which you can consider as the base price. The stock price of a certain company was $100 a year ago, once this company came into boom phase then it's stock price rise to $200. On the other hand, when there was economic depression the stock price was $50. When the company had started the price of its stock was $10, which you can consider as the base price. The stock price of a certain company was $100 a year ago, once this company came into boom phase then it's stock price rise to $200. On the other hand, when there was economic depression the stock price was $50. When the company had started the price of its stock was $10, which you can consider as the base price. The stock price of a certain company was $100 a year ago, once this company came into boom phase then it's stock price rise to $200. On the other hand, when there was economic depression the stock price was $50. When the company had started the price of its stock was $10, which you can consider as the base price. The stock price of a certain company was $100 a year ago, once this company came into boom phase then it's stock price rise to $291. On the other hand, when there was economic depression the stock price was $50. When the company had started the price of its stock was $10, which you can consider as the base price. The stock price of a certain company was $100 a year ago, once this company came into boom phase then it's stock price rise to $200. On the other hand, when there was economic depression the stock price was $50. When the company had started the price of its stock was $10, which you can consider as the base price. The stock price of a certain company was $100 a year ago, once this company came into boom phase then it's stock price rise to $200. On the other hand, when there was economic depression the stock price was $50. When the company had started the price of its stock was $10, which you can consider as the base price. The stock price of a certain company was $100 a year ago, once this company came into boom phase then it's stock price rise to $200. On the other hand, when there was economic depression the stock price was $50. When the company had started the price of its stock was $10, which you can consider as the base price. The stock price of a certain company was $100 a year ago, once this company came into boom phase then it's stock price rise to $200. On the other hand, when there was economic depression the stock price was $50. When the company had started the price of its stock was $10, which you can consider as the base price. The stock price of a certain company was $100 a year ago, once this company came into boom phase then it's stock price rise to $200. On the other hand, when there was economic depression the stock price was $50. When the company had started the price of its stock was $10, which you can consider as the base price. The stock price of a certain company was $100 a year ago, once this company came into boom phase then it's stock price rise to $200. On the other hand, when there was economic depression the stock price was $50. When the company had started the price of its stock was $10, which you can consider as the base price. The stock price of a certain company was $100 a year ago, once this company came into boom phase then it's stock price rise to $200. On the other hand, when there was economic depression the stock price was $50. When the company had started the price of its stock was $10, which you can consider as the base price. The stock price of a certain company was $100 a year ago, once this company came into boom phase then it's stock price rise to $76. On the other hand, when there was economic depression the stock price was $50. When the company had started the price of its stock was $10, which you can consider as the base price. The stock price of a certain company was $100 a year ago, once this company came into boom phase then it's stock price rise to $200. On the other hand, when there was economic depression the stock price was $50. When the company had started the price of its stock was $10, which you can consider as the base price. The stock price of a certain company was $100 a year ago, once this company came into boom phase then it's stock price rise to $212. On the other hand, when there was economic depression the stock price was $50. When the company had started the price of its stock was $10, which you can consider as the base price. The stock price of a certain company was $100 a year ago, once this company came into boom phase then it's stock price rise to $200. On the other hand, when there was economic depression the stock price was $50. When the company had started the price of its stock was $10, which you can consider as the base price. The stock price of a certain company was $100 a year ago, once this company came into boom phase then it's stock price rise to $200. On the other hand, when there was economic depression the stock price was $50. When the company had started the price of its stock was $10, which you can consider as the base price. The stock price of a certain company was $100 a year ago, once this company came into boom phase then it's stock price rise to $200. On the other hand, when there was economic depression the stock price was $50. When the company had started the price of its stock was $10, which you can consider as the base price. The stock price of a certain company was $100 a year ago, once this company came into boom phase then it's stock price rise to $200. On the other hand, when there was economic depression the stock price was $50. When the company had started the price of its stock was $10, which you can consider as the base price. The stock price of a certain company was $100 a year ago, once this company came into boom phase then it's stock price rise to $200. On the other hand, when there was economic depression the stock price was $50. When the company had started the price of its stock was $10, which you can consider as the base price. The stock price of a certain company was $100 a year ago, once this company came into boom phase then it's stock price rise to $200. On the other hand, when there was economic depression the stock price was $50. When the company had started the price of its stock was $10, which you can consider as the base price. The stock price of a certain company was $100 a year ago, once this company came into boom phase then it's stock price rise to $200. On the other hand, when there was economic depression the stock price was $50. When the company had started the price of its stock was $10, which you can consider as the base price. The stock price of a certain company was $100 a year ago, once this company came into boom phase then it's stock price rise to $200. On the other hand, when there was economic depression the stock price was $50. When the company had started the price of its stock was $10, which you can consider as the base price. The stock price of a certain company was $100 a year ago, once this company came into boom phase then it's stock price rise to $200. On the other hand, when there was economic depression the stock price was $50. When the company had started the price of its stock was $10, which you can consider as the base price. The stock price of a certain company was $100 a year ago, once this company came into boom phase then it's stock price rise to $200. On the other hand, when there was economic depression the stock price was $50. When the company had started the price of its stock was $10, which you can consider as the base price. The stock price of a certain company was $100 a year ago, once this company came into boom phase then it's stock price rise to $200. On the other hand, when there was economic depression the stock price was $50. When the company had started the price of its stock was $10, which you can consider as the base price. The stock price of a certain company was $100 a year ago, once this company came into boom phase then it's stock price rise to $200. On the other hand, when there was economic depression the stock price was $50. When the company had started the price of its stock was $10, which you can consider as the base price. The stock price of a certain company was $100 a year ago, once this company came into boom phase then it's stock price rise to $512. On the other hand, when there was economic depression the stock price was $50. When the company had started the price of its stock was $10, which you can consider as the base price. The stock price of a certain company was $100 a year ago, once this company came into boom phase then it's stock price rise to $200. On the other hand, when there was economic depression the stock price was $50. When the company had started the price of its stock was $10, which you can consider as the base price. The stock price of a certain company was $100 a year ago, once this company came into boom phase then it's stock price rise to $200. On the other hand, when there was economic depression the stock price was $50. When the company had started the price of its stock was $10, which you can consider as the base price. The stock price of a certain company was $100 a year ago, once this company came into boom phase then it's stock price rise to $250. On the other hand, when there was economic depression the stock price was $520. When the company had started the price of its stock was $10, which you can consider as the base price. The stock price of a certain company was $100 a year ago, once this company came into boom phase then it's stock price rise to $200. On the other hand, when there was economic depression the stock price was $50. When the company had started the price of its stock was $10, which you can consider as the base price. The stock price of a certain company was $100 a year ago, once this company came into boom phase then it's stock price rise to $200. On the other hand, when there was economic depression the stock price was $50. When the company had started the price of its stock was $10, which you can consider as the base price. The stock price of a certain company was $100 a year ago, once this company came into boom phase then it's stock price rise to $200. On the other hand, when there was economic depression the stock price was $50. When the company had started the price of its stock was $145, which you can consider as the base price. The stock price of a certain company was $100 a year ago, once this company came into boom phase then it's stock price rise to $200. On the other hand, when there was economic depression the stock price was $50. When the company had started the price of its stock was $10, which you can consider as the base price. The stock price of a certain company was $100 a year ago, once this company came into boom phase then it's stock price rise to $200. On the other hand, when there was economic depression the stock price was $50. When the company had started the price of its stock was $10, which you can consider as the base price. The stock price of a certain company was $100 a year ago, once this company came into boom phase then it's stock price rise to $200. On the other hand, when there was economic depression the stock price was $50. When the company had started the price of its stock was $19, which you can consider as the base price. \n"
          ]
        }
      ]
    },
    {
      "cell_type": "code",
      "source": [
        "sentences = sent_tokenize(data)\n",
        "print(sentences)"
      ],
      "metadata": {
        "colab": {
          "base_uri": "https://localhost:8080/"
        },
        "id": "2wpfelFQGQrc",
        "outputId": "dc6f08ef-e73a-442f-ffcf-6c89326eba22"
      },
      "execution_count": null,
      "outputs": [
        {
          "output_type": "stream",
          "name": "stdout",
          "text": [
            "[\"The stock price of a certain company was $100 a year ago, once this company came into boom phase then it's stock price rise to $200.\", 'On the other hand, when there was economic depression the stock price was $50.', 'When the company had started the price of its stock was $10, which you can consider as the base price.', \"The stock price of a certain company was $100 a year ago, once this company came into boom phase then it's stock price rise to $200.\", 'On the other hand, when there was economic depression the stock price was $50.', 'When the company had started the price of its stock was $10, which you can consider as the base price.', \"The stock price of a certain company was $100 a year ago, once this company came into boom phase then it's stock price rise to $200.\", 'On the other hand, when there was economic depression the stock price was $50.', 'When the company had started the price of its stock was $10, which you can consider as the base price.', \"The stock price of a certain company was $100 a year ago, once this company came into boom phase then it's stock price rise to $200.\", 'On the other hand, when there was economic depression the stock price was $50.', 'When the company had started the price of its stock was $10, which you can consider as the base price.', \"The stock price of a certain company was $100 a year ago, once this company came into boom phase then it's stock price rise to $200.\", 'On the other hand, when there was economic depression the stock price was $50.', 'When the company had started the price of its stock was $10, which you can consider as the base price.', \"The stock price of a certain company was $100 a year ago, once this company came into boom phase then it's stock price rise to $200.\", 'On the other hand, when there was economic depression the stock price was $50.', 'When the company had started the price of its stock was $10, which you can consider as the base price.', \"The stock price of a certain company was $100 a year ago, once this company came into boom phase then it's stock price rise to $200.\", 'On the other hand, when there was economic depression the stock price was $50.', 'When the company had started the price of its stock was $10, which you can consider as the base price.', \"The stock price of a certain company was $100 a year ago, once this company came into boom phase then it's stock price rise to $200.\", 'On the other hand, when there was economic depression the stock price was $50.', 'When the company had started the price of its stock was $10, which you can consider as the base price.', \"The stock price of a certain company was $100 a year ago, once this company came into boom phase then it's stock price rise to $200.\", 'On the other hand, when there was economic depression the stock price was $50.', 'When the company had started the price of its stock was $10, which you can consider as the base price.', \"The stock price of a certain company was $100 a year ago, once this company came into boom phase then it's stock price rise to $200.\", 'On the other hand, when there was economic depression the stock price was $50.', 'When the company had started the price of its stock was $10, which you can consider as the base price.', \"The stock price of a certain company was $100 a year ago, once this company came into boom phase then it's stock price rise to $200.\", 'On the other hand, when there was economic depression the stock price was $50.', 'When the company had started the price of its stock was $10, which you can consider as the base price.', \"The stock price of a certain company was $100 a year ago, once this company came into boom phase then it's stock price rise to $200.\", 'On the other hand, when there was economic depression the stock price was $50.', 'When the company had started the price of its stock was $10, which you can consider as the base price.', \"The stock price of a certain company was $100 a year ago, once this company came into boom phase then it's stock price rise to $200.\", 'On the other hand, when there was economic depression the stock price was $50.', 'When the company had started the price of its stock was $10, which you can consider as the base price.', \"The stock price of a certain company was $100 a year ago, once this company came into boom phase then it's stock price rise to $90.\", 'On the other hand, when there was economic depression the stock price was $50.', 'When the company had started the price of its stock was $10, which you can consider as the base price.', \"The stock price of a certain company was $100 a year ago, once this company came into boom phase then it's stock price rise to $200.\", 'On the other hand, when there was economic depression the stock price was $123.', 'When the company had started the price of its stock was $10, which you can consider as the base price.', \"The stock price of a certain company was $100 a year ago, once this company came into boom phase then it's stock price rise to $200.\", 'On the other hand, when there was economic depression the stock price was $50.', 'When the company had started the price of its stock was $10, which you can consider as the base price.', \"The stock price of a certain company was $100 a year ago, once this company came into boom phase then it's stock price rise to $200.\", 'On the other hand, when there was economic depression the stock price was $50.', 'When the company had started the price of its stock was $10, which you can consider as the base price.', \"The stock price of a certain company was $100 a year ago, once this company came into boom phase then it's stock price rise to $200.\", 'On the other hand, when there was economic depression the stock price was $50.', 'When the company had started the price of its stock was $10, which you can consider as the base price.', \"The stock price of a certain company was $100 a year ago, once this company came into boom phase then it's stock price rise to $200.\", 'On the other hand, when there was economic depression the stock price was $50.', 'When the company had started the price of its stock was $10, which you can consider as the base price.', \"The stock price of a certain company was $100 a year ago, once this company came into boom phase then it's stock price rise to $200.\", 'On the other hand, when there was economic depression the stock price was $53.', 'When the company had started the price of its stock was $10, which you can consider as the base price.', \"The stock price of a certain company was $100 a year ago, once this company came into boom phase then it's stock price rise to $200.\", 'On the other hand, when there was economic depression the stock price was $50.', 'When the company had started the price of its stock was $10, which you can consider as the base price.', \"The stock price of a certain company was $100 a year ago, once this company came into boom phase then it's stock price rise to $200.\", 'On the other hand, when there was economic depression the stock price was $50.', 'When the company had started the price of its stock was $10, which you can consider as the base price.', \"The stock price of a certain company was $100 a year ago, once this company came into boom phase then it's stock price rise to $200.\", 'On the other hand, when there was economic depression the stock price was $50.', 'When the company had started the price of its stock was $10, which you can consider as the base price.', \"The stock price of a certain company was $100 a year ago, once this company came into boom phase then it's stock price rise to $200.\", 'On the other hand, when there was economic depression the stock price was $50.', 'When the company had started the price of its stock was $10, which you can consider as the base price.', \"The stock price of a certain company was $100 a year ago, once this company came into boom phase then it's stock price rise to $87.\", 'On the other hand, when there was economic depression the stock price was $50.', 'When the company had started the price of its stock was $10, which you can consider as the base price.', \"The stock price of a certain company was $100 a year ago, once this company came into boom phase then it's stock price rise to $200.\", 'On the other hand, when there was economic depression the stock price was $50.', 'When the company had started the price of its stock was $10, which you can consider as the base price.', \"The stock price of a certain company was $100 a year ago, once this company came into boom phase then it's stock price rise to $200.\", 'On the other hand, when there was economic depression the stock price was $50.', 'When the company had started the price of its stock was $10, which you can consider as the base price.', \"The stock price of a certain company was $100 a year ago, once this company came into boom phase then it's stock price rise to $200.\", 'On the other hand, when there was economic depression the stock price was $50.', 'When the company had started the price of its stock was $10, which you can consider as the base price.', \"The stock price of a certain company was $100 a year ago, once this company came into boom phase then it's stock price rise to $200.\", 'On the other hand, when there was economic depression the stock price was $50.', 'When the company had started the price of its stock was $10, which you can consider as the base price.', \"The stock price of a certain company was $100 a year ago, once this company came into boom phase then it's stock price rise to $291.\", 'On the other hand, when there was economic depression the stock price was $50.', 'When the company had started the price of its stock was $10, which you can consider as the base price.', \"The stock price of a certain company was $100 a year ago, once this company came into boom phase then it's stock price rise to $200.\", 'On the other hand, when there was economic depression the stock price was $50.', 'When the company had started the price of its stock was $10, which you can consider as the base price.', \"The stock price of a certain company was $100 a year ago, once this company came into boom phase then it's stock price rise to $200.\", 'On the other hand, when there was economic depression the stock price was $50.', 'When the company had started the price of its stock was $10, which you can consider as the base price.', \"The stock price of a certain company was $100 a year ago, once this company came into boom phase then it's stock price rise to $200.\", 'On the other hand, when there was economic depression the stock price was $50.', 'When the company had started the price of its stock was $10, which you can consider as the base price.', \"The stock price of a certain company was $100 a year ago, once this company came into boom phase then it's stock price rise to $200.\", 'On the other hand, when there was economic depression the stock price was $50.', 'When the company had started the price of its stock was $10, which you can consider as the base price.', \"The stock price of a certain company was $100 a year ago, once this company came into boom phase then it's stock price rise to $200.\", 'On the other hand, when there was economic depression the stock price was $50.', 'When the company had started the price of its stock was $10, which you can consider as the base price.', \"The stock price of a certain company was $100 a year ago, once this company came into boom phase then it's stock price rise to $200.\", 'On the other hand, when there was economic depression the stock price was $50.', 'When the company had started the price of its stock was $10, which you can consider as the base price.', \"The stock price of a certain company was $100 a year ago, once this company came into boom phase then it's stock price rise to $200.\", 'On the other hand, when there was economic depression the stock price was $50.', 'When the company had started the price of its stock was $10, which you can consider as the base price.', \"The stock price of a certain company was $100 a year ago, once this company came into boom phase then it's stock price rise to $76.\", 'On the other hand, when there was economic depression the stock price was $50.', 'When the company had started the price of its stock was $10, which you can consider as the base price.', \"The stock price of a certain company was $100 a year ago, once this company came into boom phase then it's stock price rise to $200.\", 'On the other hand, when there was economic depression the stock price was $50.', 'When the company had started the price of its stock was $10, which you can consider as the base price.', \"The stock price of a certain company was $100 a year ago, once this company came into boom phase then it's stock price rise to $212.\", 'On the other hand, when there was economic depression the stock price was $50.', 'When the company had started the price of its stock was $10, which you can consider as the base price.', \"The stock price of a certain company was $100 a year ago, once this company came into boom phase then it's stock price rise to $200.\", 'On the other hand, when there was economic depression the stock price was $50.', 'When the company had started the price of its stock was $10, which you can consider as the base price.', \"The stock price of a certain company was $100 a year ago, once this company came into boom phase then it's stock price rise to $200.\", 'On the other hand, when there was economic depression the stock price was $50.', 'When the company had started the price of its stock was $10, which you can consider as the base price.', \"The stock price of a certain company was $100 a year ago, once this company came into boom phase then it's stock price rise to $200.\", 'On the other hand, when there was economic depression the stock price was $50.', 'When the company had started the price of its stock was $10, which you can consider as the base price.', \"The stock price of a certain company was $100 a year ago, once this company came into boom phase then it's stock price rise to $200.\", 'On the other hand, when there was economic depression the stock price was $50.', 'When the company had started the price of its stock was $10, which you can consider as the base price.', \"The stock price of a certain company was $100 a year ago, once this company came into boom phase then it's stock price rise to $200.\", 'On the other hand, when there was economic depression the stock price was $50.', 'When the company had started the price of its stock was $10, which you can consider as the base price.', \"The stock price of a certain company was $100 a year ago, once this company came into boom phase then it's stock price rise to $200.\", 'On the other hand, when there was economic depression the stock price was $50.', 'When the company had started the price of its stock was $10, which you can consider as the base price.', \"The stock price of a certain company was $100 a year ago, once this company came into boom phase then it's stock price rise to $200.\", 'On the other hand, when there was economic depression the stock price was $50.', 'When the company had started the price of its stock was $10, which you can consider as the base price.', \"The stock price of a certain company was $100 a year ago, once this company came into boom phase then it's stock price rise to $200.\", 'On the other hand, when there was economic depression the stock price was $50.', 'When the company had started the price of its stock was $10, which you can consider as the base price.', \"The stock price of a certain company was $100 a year ago, once this company came into boom phase then it's stock price rise to $200.\", 'On the other hand, when there was economic depression the stock price was $50.', 'When the company had started the price of its stock was $10, which you can consider as the base price.', \"The stock price of a certain company was $100 a year ago, once this company came into boom phase then it's stock price rise to $200.\", 'On the other hand, when there was economic depression the stock price was $50.', 'When the company had started the price of its stock was $10, which you can consider as the base price.', \"The stock price of a certain company was $100 a year ago, once this company came into boom phase then it's stock price rise to $200.\", 'On the other hand, when there was economic depression the stock price was $50.', 'When the company had started the price of its stock was $10, which you can consider as the base price.', \"The stock price of a certain company was $100 a year ago, once this company came into boom phase then it's stock price rise to $200.\", 'On the other hand, when there was economic depression the stock price was $50.', 'When the company had started the price of its stock was $10, which you can consider as the base price.', \"The stock price of a certain company was $100 a year ago, once this company came into boom phase then it's stock price rise to $512.\", 'On the other hand, when there was economic depression the stock price was $50.', 'When the company had started the price of its stock was $10, which you can consider as the base price.', \"The stock price of a certain company was $100 a year ago, once this company came into boom phase then it's stock price rise to $200.\", 'On the other hand, when there was economic depression the stock price was $50.', 'When the company had started the price of its stock was $10, which you can consider as the base price.', \"The stock price of a certain company was $100 a year ago, once this company came into boom phase then it's stock price rise to $200.\", 'On the other hand, when there was economic depression the stock price was $50.', 'When the company had started the price of its stock was $10, which you can consider as the base price.', \"The stock price of a certain company was $100 a year ago, once this company came into boom phase then it's stock price rise to $250.\", 'On the other hand, when there was economic depression the stock price was $520.', 'When the company had started the price of its stock was $10, which you can consider as the base price.', \"The stock price of a certain company was $100 a year ago, once this company came into boom phase then it's stock price rise to $200.\", 'On the other hand, when there was economic depression the stock price was $50.', 'When the company had started the price of its stock was $10, which you can consider as the base price.', \"The stock price of a certain company was $100 a year ago, once this company came into boom phase then it's stock price rise to $200.\", 'On the other hand, when there was economic depression the stock price was $50.', 'When the company had started the price of its stock was $10, which you can consider as the base price.', \"The stock price of a certain company was $100 a year ago, once this company came into boom phase then it's stock price rise to $200.\", 'On the other hand, when there was economic depression the stock price was $50.', 'When the company had started the price of its stock was $145, which you can consider as the base price.', \"The stock price of a certain company was $100 a year ago, once this company came into boom phase then it's stock price rise to $200.\", 'On the other hand, when there was economic depression the stock price was $50.', 'When the company had started the price of its stock was $10, which you can consider as the base price.', \"The stock price of a certain company was $100 a year ago, once this company came into boom phase then it's stock price rise to $200.\", 'On the other hand, when there was economic depression the stock price was $50.', 'When the company had started the price of its stock was $10, which you can consider as the base price.', \"The stock price of a certain company was $100 a year ago, once this company came into boom phase then it's stock price rise to $200.\", 'On the other hand, when there was economic depression the stock price was $50.', 'When the company had started the price of its stock was $19, which you can consider as the base price.']\n"
          ]
        }
      ]
    },
    {
      "cell_type": "code",
      "source": [
        "nlp = spacy.load('en_core_web_sm')"
      ],
      "metadata": {
        "id": "bhoJH60gGlMb"
      },
      "execution_count": null,
      "outputs": []
    },
    {
      "cell_type": "code",
      "source": [
        "sent = 'Christmas'\n",
        "doc = nlp(sent)\n",
        "\n",
        "for d in doc:\n",
        "  print(d.text, d.ent_iob_, d.ent_type_)\n"
      ],
      "metadata": {
        "colab": {
          "base_uri": "https://localhost:8080/"
        },
        "id": "rzeAa4NsHdM2",
        "outputId": "433d1032-95f6-4d12-a545-69811b3e3b2e"
      },
      "execution_count": null,
      "outputs": [
        {
          "output_type": "stream",
          "name": "stdout",
          "text": [
            "Christmas B DATE\n"
          ]
        }
      ]
    },
    {
      "cell_type": "code",
      "source": [
        "for d in doc:\n",
        "  print(d.text, d.dep_)"
      ],
      "metadata": {
        "colab": {
          "base_uri": "https://localhost:8080/"
        },
        "id": "zZlmiytOIDoB",
        "outputId": "dea0952a-2044-42c6-9660-c83b1243f793"
      },
      "execution_count": null,
      "outputs": [
        {
          "output_type": "stream",
          "name": "stdout",
          "text": [
            "Harry nsubj\n",
            "is aux\n",
            "not neg\n",
            "gardening ROOT\n",
            "as mark\n",
            "it nsubj\n",
            "is aux\n",
            "raining advcl\n"
          ]
        }
      ]
    },
    {
      "cell_type": "code",
      "source": [],
      "metadata": {
        "id": "ewnsYkYmQkcZ"
      },
      "execution_count": null,
      "outputs": []
    }
  ]
}