{
 "cells": [
  {
   "cell_type": "code",
   "execution_count": 1,
   "metadata": {},
   "outputs": [],
   "source": [
    "import re\n",
    "from collections import Counter"
   ]
  },
  {
   "cell_type": "code",
   "execution_count": 2,
   "metadata": {},
   "outputs": [],
   "source": [
    "# function to tokenise words\n",
    "def words(document):\n",
    "    \"Convert text to lower case and tokenise the document\"\n",
    "    return re.findall(r'\\w+', document.lower())"
   ]
  },
  {
   "cell_type": "code",
   "execution_count": 3,
   "metadata": {},
   "outputs": [],
   "source": [
    "# create a frequency table of all the words of the document\n",
    "all_words = Counter(words(open('big.txt').read()))"
   ]
  },
  {
   "cell_type": "code",
   "execution_count": 4,
   "metadata": {},
   "outputs": [
    {
     "data": {
      "text/plain": [
       "135"
      ]
     },
     "execution_count": 4,
     "metadata": {},
     "output_type": "execute_result"
    }
   ],
   "source": [
    "# check frequency of a random word, say, 'chair'\n",
    "all_words['chair']"
   ]
  },
  {
   "cell_type": "code",
   "execution_count": 5,
   "metadata": {},
   "outputs": [
    {
     "data": {
      "text/plain": [
       "[('the', 79809),\n",
       " ('of', 40024),\n",
       " ('and', 38312),\n",
       " ('to', 28765),\n",
       " ('in', 22023),\n",
       " ('a', 21124),\n",
       " ('that', 12512),\n",
       " ('he', 12401),\n",
       " ('was', 11410),\n",
       " ('it', 10681)]"
      ]
     },
     "execution_count": 5,
     "metadata": {},
     "output_type": "execute_result"
    }
   ],
   "source": [
    "# look at top 10 frequent words\n",
    "all_words.most_common(10)"
   ]
  },
  {
   "cell_type": "code",
   "execution_count": 6,
   "metadata": {},
   "outputs": [],
   "source": [
    "def edits_one(word):\n",
    "    \"Create all edits that are one edit away from `word`.\"\n",
    "    alphabets    = 'abcdefghijklmnopqrstuvwxyz'\n",
    "    splits     = [(word[:i], word[i:])                   for i in range(len(word) + 1)]\n",
    "    deletes    = [left + right[1:]                       for left, right in splits if right]\n",
    "    inserts    = [left + c + right                       for left, right in splits for c in alphabets]\n",
    "    replaces   = [left + c + right[1:]                   for left, right in splits if right for c in alphabets]\n",
    "    transposes = [left + right[1] + right[0] + right[2:] for left, right in splits if len(right)>1]\n",
    "    return set(deletes + inserts + replaces + transposes)"
   ]
  },
  {
   "cell_type": "code",
   "execution_count": 7,
   "metadata": {},
   "outputs": [],
   "source": [
    "def edits_two(word):\n",
    "    \"Create all edits that are two edits away from `word`.\"\n",
    "    return (e2 for e1 in edits_one(word) for e2 in edits_one(e1))"
   ]
  },
  {
   "cell_type": "code",
   "execution_count": 8,
   "metadata": {},
   "outputs": [],
   "source": [
    "def known(words):\n",
    "    \"The subset of `words` that appear in the `all_words`.\"\n",
    "    return set(word for word in words if word in all_words)"
   ]
  },
  {
   "cell_type": "code",
   "execution_count": 9,
   "metadata": {},
   "outputs": [],
   "source": [
    "def possible_corrections(word):\n",
    "    \"Generate possible spelling corrections for word.\"\n",
    "    return (known([word]) or known(edits_one(word)) or known(edits_two(word)) or [word])"
   ]
  },
  {
   "cell_type": "code",
   "execution_count": 10,
   "metadata": {},
   "outputs": [],
   "source": [
    "def prob(word, N=sum(all_words.values())): \n",
    "    \"Probability of `word`: Number of appearances of 'word' / total number of tokens\"\n",
    "    return all_words[word] / N"
   ]
  },
  {
   "cell_type": "code",
   "execution_count": 11,
   "metadata": {},
   "outputs": [
    {
     "name": "stdout",
     "output_type": "stream",
     "text": [
      "1\n"
     ]
    }
   ],
   "source": [
    "print(len(set(possible_corrections(\"emfasize\"))))"
   ]
  },
  {
   "cell_type": "code",
   "execution_count": 12,
   "metadata": {},
   "outputs": [
    {
     "name": "stdout",
     "output_type": "stream",
     "text": [
      "336\n",
      "{'mionney', 'fonney', 'mponney', 'monaey', 'monnewy', 'monneyp', 'monniey', 'monmey', 'moznney', 'eonney', 'moxnney', 'monnet', 'monnoey', 'monnel', 'monngey', 'monneya', 'moenney', 'monyey', 'vonney', 'mbonney', 'monoey', 'gmonney', 'mojney', 'mxnney', 'monnev', 'monnek', 'monnes', 'monkey', 'monneyo', 'mokney', 'mnnney', 'mhnney', 'xonney', 'monnyy', 'monneg', 'monnen', 'mfnney', 'monnbey', 'monneym', 'ymonney', 'jonney', 'monneyi', 'monvney', 'monneyr', 'monnec', 'conney', 'monnhy', 'lmonney', 'mhonney', 'mondney', 'monnby', 'mobney', 'maonney', 'monned', 'mtnney', 'monneyx', 'wmonney', 'monwney', 'mnoney', 'mwonney', 'monsey', 'mconney', 'monnny', 'monrey', 'monnxey', 'moniey', 'monnty', 'mrnney', 'monneye', 'monjney', 'monbney', 'monnzey', 'ponney', 'motnney', 'mmonney', 'xmonney', 'mpnney', 'moxney', 'moynney', 'motney', 'oonney', 'monxney', 'monsney', 'monnery', 'vmonney', 'monnvey', 'moeney', 'monlney', 'aonney', 'nonney', 'monntey', 'monnvy', 'monyney', 'konney', 'mozney', 'smonney', 'moneny', 'monnesy', 'monuey', 'mlnney', 'mocney', 'mlonney', 'monnry', 'monneyu', 'moneey', 'monnhey', 'monfey', 'muonney', 'omonney', 'monnmey', 'monaney', 'mogney', 'pmonney', 'rmonney', 'mvonney', 'monnqy', 'molney', 'monnqey', 'mounney', 'monnoy', 'monneky', 'monneoy', 'onney', 'monwey', 'amonney', 'mongney', 'monnuey', 'monneh', 'monneyt', 'monnfey', 'moiney', 'monneo', 'mohney', 'mopney', 'monneyw', 'monnegy', 'monnjy', 'movnney', 'mosnney', 'monneb', 'monneby', 'monngy', 'monneay', 'monhney', 'monnay', 'moniney', 'monley', 'monnpey', 'emonney', 'menney', 'tonney', 'monneyv', 'montney', 'mqnney', 'mjnney', 'monrney', 'monnwey', 'mronney', 'monneyc', 'monnsey', 'monnrey', 'lonney', 'qmonney', 'monnzy', 'monneqy', 'monnxy', 'monnmy', 'monnez', 'cmonney', 'monndey', 'monnefy', 'bonney', 'mouney', 'munney', 'mdnney', 'ronney', 'mzonney', 'monnwy', 'monneu', 'monnexy', 'monnyey', 'mohnney', 'monneyk', 'wonney', 'uonney', 'monnye', 'monnety', 'monzney', 'umonney', 'monnei', 'monneiy', 'monnef', 'ionney', 'monneey', 'mkonney', 'monneyy', 'monnney', 'monncey', 'monny', 'monqney', 'monnemy', 'omnney', 'mownney', 'qonney', 'mornney', 'monnuy', 'jmonney', 'mooney', 'mnonney', 'monnevy', 'honney', 'monnex', 'moinney', 'monnkey', 'monnely', 'minney', 'monfney', 'dmonney', 'monnley', 'mjonney', 'monneuy', 'monndy', 'moneney', 'monnem', 'donney', 'mdonney', 'msonney', 'moncey', 'monneyj', 'monniy', 'msnney', 'monneq', 'movney', 'monnpy', 'monjey', 'monvey', 'mofnney', 'monzey', 'mqonney', 'monnsy', 'momnney', 'monnea', 'monncy', 'moanney', 'mgnney', 'bmonney', 'momney', 'mgonney', 'imonney', 'monneyz', 'mwnney', 'monney', 'monner', 'mfonney', 'monnedy', 'manney', 'tmonney', 'zonney', 'monneyn', 'monkney', 'montey', 'mocnney', 'monpey', 'myonney', 'monneyl', 'monnep', 'gonney', 'monnehy', 'monnjey', 'monne', 'moncney', 'mofney', 'mnney', 'monnezy', 'kmonney', 'monnky', 'molnney', 'moonney', 'monnejy', 'monneyq', 'moaney', 'yonney', 'monmney', 'mvnney', 'mosney', 'mowney', 'nmonney', 'zmonney', 'monhey', 'monneyh', 'monuney', 'modney', 'monneyb', 'moyney', 'morney', 'modnney', 'monnee', 'monpney', 'mknney', 'monneny', 'monneyd', 'mmnney', 'mznney', 'monbey', 'moknney', 'mobnney', 'mognney', 'mononey', 'monnej', 'monnepy', 'mongey', 'monnly', 'hmonney', 'mopnney', 'mtonney', 'monnaey', 'mxonney', 'fmonney', 'monneyg', 'mondey', 'monxey', 'sonney', 'mbnney', 'mojnney', 'monneys', 'monnecy', 'mcnney', 'monnew', 'monneyf', 'moqney', 'meonney', 'mynney', 'monnfy', 'money', 'moqnney', 'monqey'}\n"
     ]
    }
   ],
   "source": [
    "print(len(set(edits_one(\"monney\"))))\n",
    "print(edits_one(\"monney\"))"
   ]
  },
  {
   "cell_type": "code",
   "execution_count": 13,
   "metadata": {},
   "outputs": [
    {
     "name": "stdout",
     "output_type": "stream",
     "text": [
      "{'monkey', 'money'}\n"
     ]
    }
   ],
   "source": [
    "print(known(edits_one(\"monney\")))"
   ]
  },
  {
   "cell_type": "code",
   "execution_count": 14,
   "metadata": {},
   "outputs": [
    {
     "name": "stdout",
     "output_type": "stream",
     "text": [
      "51013\n",
      "{'monkey', 'money'}\n"
     ]
    }
   ],
   "source": [
    "# Let's look at words that are two edits away\n",
    "print(len(set(edits_two(\"monney\"))))\n",
    "print(known(edits_one(\"monney\")))"
   ]
  },
  {
   "cell_type": "code",
   "execution_count": 15,
   "metadata": {},
   "outputs": [
    {
     "name": "stdout",
     "output_type": "stream",
     "text": [
      "{'monkey', 'money'}\n"
     ]
    }
   ],
   "source": [
    "# Let's look at possible corrections of a word\n",
    "print(possible_corrections(\"monney\"))"
   ]
  },
  {
   "cell_type": "code",
   "execution_count": 16,
   "metadata": {},
   "outputs": [
    {
     "name": "stdout",
     "output_type": "stream",
     "text": [
      "0.0002922233626303688\n",
      "5.378344097491451e-06\n"
     ]
    }
   ],
   "source": [
    "# Let's look at probability of a word\n",
    "print(prob(\"money\"))\n",
    "print(prob(\"monkey\"))"
   ]
  },
  {
   "cell_type": "code",
   "execution_count": 17,
   "metadata": {},
   "outputs": [],
   "source": [
    "def spell_check(word):\n",
    "    \"Print the most probable spelling correction for `word` out of all the `possible_corrections`\"\n",
    "    correct_word = max(possible_corrections(word), key=prob)\n",
    "    if correct_word != word:\n",
    "        return \"Did you mean \" + correct_word + \"?\"\n",
    "    else:\n",
    "        return \"Correct spelling.\""
   ]
  },
  {
   "cell_type": "code",
   "execution_count": 18,
   "metadata": {},
   "outputs": [
    {
     "name": "stdout",
     "output_type": "stream",
     "text": [
      "Did you mean rhyme?\n"
     ]
    }
   ],
   "source": [
    "# test spell check\n",
    "print(spell_check(\"Rhyme\"))"
   ]
  },
  {
   "cell_type": "code",
   "execution_count": null,
   "metadata": {},
   "outputs": [],
   "source": []
  }
 ],
 "metadata": {
  "kernelspec": {
   "display_name": "Python 3 (ipykernel)",
   "language": "python",
   "name": "python3"
  },
  "language_info": {
   "codemirror_mode": {
    "name": "ipython",
    "version": 3
   },
   "file_extension": ".py",
   "mimetype": "text/x-python",
   "name": "python",
   "nbconvert_exporter": "python",
   "pygments_lexer": "ipython3",
   "version": "3.12.4"
  }
 },
 "nbformat": 4,
 "nbformat_minor": 4
}
