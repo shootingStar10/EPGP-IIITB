{
 "cells": [
  {
   "cell_type": "markdown",
   "id": "ea3a784b-02fa-4b71-8ff9-adfd8e3f7f6a",
   "metadata": {},
   "source": [
    "# Spelling Corrector\n",
    "\n",
    "**Problem Statement:** \n",
    "\n",
    "The goal of the problem is to build a model which can check the spelling of a word and if the spelling is incorrect it can suggest the correct spelling.\n",
    "\n",
    "**Solution:**\n",
    "\n",
    "We will implement `Norvig’s Spell Checker` algorithm to solve this. The solution has following steps:\n",
    "\n",
    "- Load the correct text corpus from any data source\n",
    "- Define below utilities:\n",
    "    - Generate all the combination of words which are 1 edit distance away from given word\n",
    "    - Generate all the combination of words which are 2 edit distance away from given word\n",
    "    - Generate all known words of a given word, known words means the word which is present in correct text corpus\n",
    "- Define all possible correction of a word as `known_words([word]) or known_words(edit_one(word)) or known_words(edit_two(word)) or [word]`\n",
    "- For all possible correction return the word which has highest probability of occurrence."
   ]
  },
  {
   "cell_type": "code",
   "execution_count": 14,
   "id": "4b552b7b-483d-4f65-9147-00c425b4c4a4",
   "metadata": {},
   "outputs": [],
   "source": [
    "# import libraries\n",
    "import re\n",
    "from collections import Counter"
   ]
  },
  {
   "cell_type": "code",
   "execution_count": 18,
   "id": "f885d587-e6e9-43fe-ac65-b6a71e260d7a",
   "metadata": {},
   "outputs": [],
   "source": [
    "# load the correct text corpus\n",
    "correct_text = open('big.txt').read()\n",
    "\n",
    "# tokenize the correct text corpus \n",
    "tokens = re.findall(r'\\w+', correct_text)\n",
    "\n",
    "# create global dictionary of all correct words\n",
    "all_words = Counter(tokens)"
   ]
  },
  {
   "cell_type": "code",
   "execution_count": 35,
   "id": "aa951da4-859f-4361-9c21-fd10dab9d8d5",
   "metadata": {},
   "outputs": [],
   "source": [
    "# generate all possible combination of words which are 1 edit distance away from given word\n",
    "\n",
    "def edit_one(word):\n",
    "    alphabets = 'abcdefghijklmnopqrstuvwxyz'\n",
    "    \n",
    "    splits = []\n",
    "    for i in range(0, len(word)):\n",
    "        left = word[:i]\n",
    "        right = word[i:]\n",
    "        splits.append([left, right])\n",
    "\n",
    "    deletes = []\n",
    "    for left, right in splits:\n",
    "        if len(right) > 0:\n",
    "            deletes.append(left + right[1:])\n",
    "\n",
    "    inserts = []\n",
    "    for left, right in splits:\n",
    "        for c in alphabets:\n",
    "            inserts.append(left + c + right)\n",
    "\n",
    "    replaces = []\n",
    "    for left, right in splits:\n",
    "        if len(right) > 0:\n",
    "            for c in alphabets:\n",
    "                replaces.append(left + c + right[1:])\n",
    "\n",
    "    transposes = []\n",
    "    for left, right in splits:\n",
    "        if len(right) > 1:\n",
    "            transposes.append(left + right[1] + right[0] + right[2:])\n",
    "\n",
    "    return set(deletes + inserts + replaces + transposes)"
   ]
  },
  {
   "cell_type": "code",
   "execution_count": 20,
   "id": "c72ff8d4-531b-45da-af6f-b69f26a2ec2f",
   "metadata": {},
   "outputs": [],
   "source": [
    "# generate all possible combination of words which are 2 edit distance away from given word\n",
    "\n",
    "def edit_two(word):\n",
    "    combinations = []\n",
    "\n",
    "    for e1 in edit_one(word):\n",
    "        for e2 in edit_one(e1):\n",
    "            combinations.append(e2)\n",
    "\n",
    "    return set(combinations)"
   ]
  },
  {
   "cell_type": "code",
   "execution_count": 21,
   "id": "90308029-17f9-40cf-82f5-fc909a856df5",
   "metadata": {},
   "outputs": [],
   "source": [
    "# generate all known words \n",
    "\n",
    "def known_words(words):\n",
    "    known = []\n",
    "\n",
    "    for word in words:\n",
    "        if word in all_words:\n",
    "            known.append(word)\n",
    "\n",
    "    return set(known)"
   ]
  },
  {
   "cell_type": "code",
   "execution_count": 29,
   "id": "89bdff7e-956d-4209-8ce8-296647a9010c",
   "metadata": {},
   "outputs": [],
   "source": [
    "# generate all possible combinations of given word\n",
    "\n",
    "def possible_corrections(word):\n",
    "    return (known_words([word]) or known_words(edit_one(word)) or known_words(edit_two(word)) or [word])"
   ]
  },
  {
   "cell_type": "code",
   "execution_count": 23,
   "id": "1686c806-7050-4a5e-8760-97e7a132344f",
   "metadata": {},
   "outputs": [],
   "source": [
    "# define probability of correct word\n",
    "\n",
    "def prob(word, N=sum(all_words.values())):\n",
    "    return all_words[word] / N"
   ]
  },
  {
   "cell_type": "code",
   "execution_count": 58,
   "id": "df36d626-ff54-49fe-a681-4c5f87ab0060",
   "metadata": {},
   "outputs": [],
   "source": [
    "def spell_corrector(word):\n",
    "    correct_word = max(possible_corrections(word), key=prob)\n",
    "    \n",
    "    if correct_word != word:\n",
    "        return \"Did you mean \" + correct_word + \"?\"\n",
    "    else:\n",
    "        return \"Correct spelling.\""
   ]
  },
  {
   "cell_type": "code",
   "execution_count": 59,
   "id": "9905d84c-e9d7-4d07-be8c-955d139048ea",
   "metadata": {},
   "outputs": [
    {
     "data": {
      "text/plain": [
       "'Did you mean money?'"
      ]
     },
     "execution_count": 59,
     "metadata": {},
     "output_type": "execute_result"
    }
   ],
   "source": [
    "spell_corrector('monney')"
   ]
  },
  {
   "cell_type": "code",
   "execution_count": 38,
   "id": "732a830d-658e-4873-859d-04a38484ec8e",
   "metadata": {},
   "outputs": [
    {
     "data": {
      "text/plain": [
       "'Correct spelling.'"
      ]
     },
     "execution_count": 38,
     "metadata": {},
     "output_type": "execute_result"
    }
   ],
   "source": [
    "spell_corrector('money')"
   ]
  },
  {
   "cell_type": "code",
   "execution_count": 53,
   "id": "ee31febb-0efe-427c-b3dd-1fd2b1fb16d3",
   "metadata": {},
   "outputs": [
    {
     "data": {
      "text/plain": [
       "'Correct spelling.'"
      ]
     },
     "execution_count": 53,
     "metadata": {},
     "output_type": "execute_result"
    }
   ],
   "source": [
    "spell_corrector('flower')"
   ]
  }
 ],
 "metadata": {
  "kernelspec": {
   "display_name": "Python 3 (ipykernel)",
   "language": "python",
   "name": "python3"
  },
  "language_info": {
   "codemirror_mode": {
    "name": "ipython",
    "version": 3
   },
   "file_extension": ".py",
   "mimetype": "text/x-python",
   "name": "python",
   "nbconvert_exporter": "python",
   "pygments_lexer": "ipython3",
   "version": "3.12.4"
  }
 },
 "nbformat": 4,
 "nbformat_minor": 5
}
