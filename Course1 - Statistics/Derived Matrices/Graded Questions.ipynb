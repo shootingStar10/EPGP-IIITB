{
 "cells": [
  {
   "cell_type": "code",
   "execution_count": 1,
   "id": "22733263",
   "metadata": {},
   "outputs": [],
   "source": [
    "import pandas as pd\n",
    "import matplotlib.pyplot as plt\n",
    "import numpy as np\n",
    "import seaborn as sns"
   ]
  },
  {
   "cell_type": "code",
   "execution_count": 2,
   "id": "bb26a958",
   "metadata": {},
   "outputs": [
    {
     "data": {
      "text/plain": [
       "(198, 2)"
      ]
     },
     "execution_count": 2,
     "metadata": {},
     "output_type": "execute_result"
    }
   ],
   "source": [
    "data = pd.read_csv('grades.csv')\n",
    "data.shape"
   ]
  },
  {
   "cell_type": "markdown",
   "id": "a61aacae",
   "metadata": {},
   "source": [
    "#### Q1) What percentage of students submitted their solutions in .zip format?"
   ]
  },
  {
   "cell_type": "code",
   "execution_count": 3,
   "id": "3e955eb6",
   "metadata": {},
   "outputs": [],
   "source": [
    "data['file_format'] = data['submission'].apply(lambda x: x.split('.')[-1])"
   ]
  },
  {
   "cell_type": "code",
   "execution_count": 4,
   "id": "e2d4ff30",
   "metadata": {},
   "outputs": [
    {
     "data": {
      "text/plain": [
       "95.45454545454545"
      ]
     },
     "execution_count": 4,
     "metadata": {},
     "output_type": "execute_result"
    }
   ],
   "source": [
    "(len(data[data['file_format'] == 'zip']) / len(data)) * 100"
   ]
  },
  {
   "cell_type": "markdown",
   "id": "5ff4be43",
   "metadata": {},
   "source": [
    "#### Q2) How many students submitted the assignment after the first deadline (including the students who submitted after the second deadline) ?"
   ]
  },
  {
   "cell_type": "code",
   "execution_count": 5,
   "id": "608ee8bd",
   "metadata": {},
   "outputs": [],
   "source": [
    "data['day'] = pd.DatetimeIndex(data['submit_time']).day\n",
    "data['month'] = pd.DatetimeIndex(data['submit_time']).month\n",
    "data['year'] = pd.DatetimeIndex(data['submit_time']).year\n",
    "data['hour'] = pd.DatetimeIndex(data['submit_time']).hour\n",
    "data['minute'] = pd.DatetimeIndex(data['submit_time']).minute\n",
    "data['second'] = pd.DatetimeIndex(data['submit_time']).second"
   ]
  },
  {
   "cell_type": "code",
   "execution_count": 6,
   "id": "5d072909",
   "metadata": {},
   "outputs": [
    {
     "name": "stderr",
     "output_type": "stream",
     "text": [
      "C:\\Users\\vimishra\\AppData\\Local\\Temp\\ipykernel_1976\\624326165.py:1: UserWarning: Could not infer format, so each element will be parsed individually, falling back to `dateutil`. To ensure parsing is consistent and as-expected, please specify a format.\n",
      "  len(data[pd.to_datetime(data['submit_time']) > pd.to_datetime('01/03/17-23:59:59')])\n"
     ]
    },
    {
     "data": {
      "text/plain": [
       "44"
      ]
     },
     "execution_count": 6,
     "metadata": {},
     "output_type": "execute_result"
    }
   ],
   "source": [
    "len(data[pd.to_datetime(data['submit_time']) > pd.to_datetime('01/03/17-23:59:59')])"
   ]
  },
  {
   "cell_type": "markdown",
   "id": "f64bfe13",
   "metadata": {},
   "source": [
    "#### Q3) On which date did the most students submit the assignment?"
   ]
  },
  {
   "cell_type": "code",
   "execution_count": 7,
   "id": "54a6034f",
   "metadata": {},
   "outputs": [],
   "source": [
    "data['date'] = pd.DatetimeIndex(data['submit_time']).date"
   ]
  },
  {
   "cell_type": "code",
   "execution_count": 8,
   "id": "b34d01a8",
   "metadata": {},
   "outputs": [
    {
     "data": {
      "text/plain": [
       "date\n",
       "2016-11-19      1\n",
       "2016-12-19      1\n",
       "2016-12-21      1\n",
       "2016-12-28      2\n",
       "2016-12-29      2\n",
       "2016-12-30      6\n",
       "2016-12-31      1\n",
       "2017-01-01      6\n",
       "2017-01-02     14\n",
       "2017-01-03    120\n",
       "2017-01-04     12\n",
       "2017-01-06      1\n",
       "2017-01-07      2\n",
       "2017-01-08      3\n",
       "2017-01-09     21\n",
       "2017-01-10      3\n",
       "2017-01-17      1\n",
       "2017-02-03      1\n",
       "Name: submission, dtype: int64"
      ]
     },
     "execution_count": 8,
     "metadata": {},
     "output_type": "execute_result"
    }
   ],
   "source": [
    "data.groupby(by = 'date')['submission'].count()"
   ]
  },
  {
   "cell_type": "markdown",
   "id": "53ba8a06",
   "metadata": {},
   "source": [
    "#### Q4) In which hour of the day did most students submit the solution?"
   ]
  },
  {
   "cell_type": "code",
   "execution_count": 9,
   "id": "580f881e",
   "metadata": {},
   "outputs": [
    {
     "data": {
      "text/plain": [
       "hour\n",
       "0     10\n",
       "1      8\n",
       "2      2\n",
       "3      3\n",
       "4      2\n",
       "6      1\n",
       "8      1\n",
       "9      1\n",
       "10     3\n",
       "11     1\n",
       "12     3\n",
       "13     6\n",
       "14     6\n",
       "15     4\n",
       "16     2\n",
       "17     4\n",
       "18     6\n",
       "19     2\n",
       "20    16\n",
       "21    27\n",
       "22    24\n",
       "23    66\n",
       "Name: submission, dtype: int64"
      ]
     },
     "execution_count": 9,
     "metadata": {},
     "output_type": "execute_result"
    }
   ],
   "source": [
    "data.groupby(by = 'hour')['submission'].count()"
   ]
  },
  {
   "cell_type": "markdown",
   "id": "c5d3a47e",
   "metadata": {},
   "source": [
    "#### Q5) If you plot the distribution of submissions by the hour, what can you observe?"
   ]
  },
  {
   "cell_type": "code",
   "execution_count": 10,
   "id": "0c10c631",
   "metadata": {},
   "outputs": [
    {
     "data": {
      "image/png": "[encoded data removed]",
      "text/plain": [
       "<Figure size 640x480 with 1 Axes>"
      ]
     },
     "metadata": {},
     "output_type": "display_data"
    }
   ],
   "source": [
    "sns.histplot(data['hour'])\n",
    "plt.show()"
   ]
  },
  {
   "cell_type": "code",
   "execution_count": null,
   "id": "1cbb72e4",
   "metadata": {},
   "outputs": [],
   "source": []
  }
 ],
 "metadata": {
  "kernelspec": {
   "display_name": "Python 3 (ipykernel)",
   "language": "python",
   "name": "python3"
  },
  "language_info": {
   "codemirror_mode": {
    "name": "ipython",
    "version": 3
   },
   "file_extension": ".py",
   "mimetype": "text/x-python",
   "name": "python",
   "nbconvert_exporter": "python",
   "pygments_lexer": "ipython3",
   "version": "3.11.5"
  }
 },
 "nbformat": 4,
 "nbformat_minor": 5
}
