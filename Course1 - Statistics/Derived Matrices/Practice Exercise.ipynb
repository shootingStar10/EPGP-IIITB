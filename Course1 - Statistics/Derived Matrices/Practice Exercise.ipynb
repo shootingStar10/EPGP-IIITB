{
 "cells": [
  {
   "cell_type": "code",
   "execution_count": 1,
   "id": "9ad003d1",
   "metadata": {},
   "outputs": [],
   "source": [
    "import pandas as pd\n",
    "import matplotlib.pyplot as plt\n",
    "import seaborn as sns\n",
    "import numpy as np"
   ]
  },
  {
   "cell_type": "code",
   "execution_count": 2,
   "id": "18b5a29d",
   "metadata": {},
   "outputs": [
    {
     "data": {
      "text/plain": [
       "(50284, 8)"
      ]
     },
     "execution_count": 2,
     "metadata": {},
     "output_type": "execute_result"
    }
   ],
   "source": [
    "data = pd.read_csv('odi-batting.csv')\n",
    "data.shape"
   ]
  },
  {
   "cell_type": "code",
   "execution_count": 3,
   "id": "4775d60a",
   "metadata": {},
   "outputs": [
    {
     "data": {
      "text/html": [
       "<div>\n",
       "<style scoped>\n",
       "    .dataframe tbody tr th:only-of-type {\n",
       "        vertical-align: middle;\n",
       "    }\n",
       "\n",
       "    .dataframe tbody tr th {\n",
       "        vertical-align: top;\n",
       "    }\n",
       "\n",
       "    .dataframe thead th {\n",
       "        text-align: right;\n",
       "    }\n",
       "</style>\n",
       "<table border=\"1\" class=\"dataframe\">\n",
       "  <thead>\n",
       "    <tr style=\"text-align: right;\">\n",
       "      <th></th>\n",
       "      <th>Country</th>\n",
       "      <th>Player</th>\n",
       "      <th>Runs</th>\n",
       "      <th>MatchDate</th>\n",
       "      <th>Weekday</th>\n",
       "      <th>Ground</th>\n",
       "      <th>Versus</th>\n",
       "      <th>Balls</th>\n",
       "    </tr>\n",
       "  </thead>\n",
       "  <tbody>\n",
       "    <tr>\n",
       "      <th>0</th>\n",
       "      <td>Afghanistan</td>\n",
       "      <td>Mohammad Shahzad</td>\n",
       "      <td>118</td>\n",
       "      <td>16-02-2010</td>\n",
       "      <td>Tue</td>\n",
       "      <td>Sharjah CA Stadium</td>\n",
       "      <td>Canada</td>\n",
       "      <td>121</td>\n",
       "    </tr>\n",
       "    <tr>\n",
       "      <th>1</th>\n",
       "      <td>Afghanistan</td>\n",
       "      <td>Mohammad Shahzad</td>\n",
       "      <td>110</td>\n",
       "      <td>01-09-2009</td>\n",
       "      <td>Tue</td>\n",
       "      <td>VRA Ground</td>\n",
       "      <td>Netherlands</td>\n",
       "      <td>111</td>\n",
       "    </tr>\n",
       "    <tr>\n",
       "      <th>2</th>\n",
       "      <td>Afghanistan</td>\n",
       "      <td>Mohammad Shahzad</td>\n",
       "      <td>100</td>\n",
       "      <td>16-08-2010</td>\n",
       "      <td>Mon</td>\n",
       "      <td>Cambusdoon New Ground</td>\n",
       "      <td>Scotland</td>\n",
       "      <td>72</td>\n",
       "    </tr>\n",
       "    <tr>\n",
       "      <th>3</th>\n",
       "      <td>Afghanistan</td>\n",
       "      <td>Mohammad Shahzad</td>\n",
       "      <td>82</td>\n",
       "      <td>10-07-2010</td>\n",
       "      <td>Sat</td>\n",
       "      <td>Hazelaarweg</td>\n",
       "      <td>Netherlands</td>\n",
       "      <td>108</td>\n",
       "    </tr>\n",
       "    <tr>\n",
       "      <th>4</th>\n",
       "      <td>Afghanistan</td>\n",
       "      <td>Mohammad Shahzad</td>\n",
       "      <td>57</td>\n",
       "      <td>01-07-2010</td>\n",
       "      <td>Thu</td>\n",
       "      <td>Sportpark Westvliet</td>\n",
       "      <td>Canada</td>\n",
       "      <td>57</td>\n",
       "    </tr>\n",
       "  </tbody>\n",
       "</table>\n",
       "</div>"
      ],
      "text/plain": [
       "       Country            Player  Runs   MatchDate Weekday  \\\n",
       "0  Afghanistan  Mohammad Shahzad   118  16-02-2010     Tue   \n",
       "1  Afghanistan  Mohammad Shahzad   110  01-09-2009     Tue   \n",
       "2  Afghanistan  Mohammad Shahzad   100  16-08-2010     Mon   \n",
       "3  Afghanistan  Mohammad Shahzad    82  10-07-2010     Sat   \n",
       "4  Afghanistan  Mohammad Shahzad    57  01-07-2010     Thu   \n",
       "\n",
       "                  Ground       Versus  Balls  \n",
       "0     Sharjah CA Stadium       Canada    121  \n",
       "1             VRA Ground  Netherlands    111  \n",
       "2  Cambusdoon New Ground     Scotland     72  \n",
       "3            Hazelaarweg  Netherlands    108  \n",
       "4    Sportpark Westvliet       Canada     57  "
      ]
     },
     "execution_count": 3,
     "metadata": {},
     "output_type": "execute_result"
    }
   ],
   "source": [
    "data.head()"
   ]
  },
  {
   "cell_type": "markdown",
   "id": "dfedf2a8",
   "metadata": {},
   "source": [
    "#### Q1) Which player scored the highest number of centuries?"
   ]
  },
  {
   "cell_type": "markdown",
   "id": "f0f0bcfa",
   "metadata": {},
   "source": [
    "###### Approach #1 by using bivariate analysis"
   ]
  },
  {
   "cell_type": "code",
   "execution_count": 4,
   "id": "7fa3ddba",
   "metadata": {},
   "outputs": [],
   "source": [
    "all_players_who_scored_century = data[data['Runs'] >= 100].loc[:, ['Player', 'Runs']]"
   ]
  },
  {
   "cell_type": "code",
   "execution_count": 5,
   "id": "762f1768",
   "metadata": {},
   "outputs": [],
   "source": [
    "all_players_who_scored_century.set_index('Player', inplace = True)"
   ]
  },
  {
   "cell_type": "code",
   "execution_count": 6,
   "id": "21f5e926",
   "metadata": {},
   "outputs": [],
   "source": [
    "X = all_players_who_scored_century.groupby(by = 'Player').count()"
   ]
  },
  {
   "cell_type": "code",
   "execution_count": 7,
   "id": "7874b31c",
   "metadata": {},
   "outputs": [
    {
     "data": {
      "text/html": [
       "<div>\n",
       "<style scoped>\n",
       "    .dataframe tbody tr th:only-of-type {\n",
       "        vertical-align: middle;\n",
       "    }\n",
       "\n",
       "    .dataframe tbody tr th {\n",
       "        vertical-align: top;\n",
       "    }\n",
       "\n",
       "    .dataframe thead th {\n",
       "        text-align: right;\n",
       "    }\n",
       "</style>\n",
       "<table border=\"1\" class=\"dataframe\">\n",
       "  <thead>\n",
       "    <tr style=\"text-align: right;\">\n",
       "      <th></th>\n",
       "      <th>Runs</th>\n",
       "    </tr>\n",
       "    <tr>\n",
       "      <th>Player</th>\n",
       "      <th></th>\n",
       "    </tr>\n",
       "  </thead>\n",
       "  <tbody>\n",
       "    <tr>\n",
       "      <th>Sachin R Tendulkar</th>\n",
       "      <td>48</td>\n",
       "    </tr>\n",
       "  </tbody>\n",
       "</table>\n",
       "</div>"
      ],
      "text/plain": [
       "                    Runs\n",
       "Player                  \n",
       "Sachin R Tendulkar    48"
      ]
     },
     "execution_count": 7,
     "metadata": {},
     "output_type": "execute_result"
    }
   ],
   "source": [
    "X[X['Runs'] == X['Runs'].max()]"
   ]
  },
  {
   "cell_type": "markdown",
   "id": "1128d3e8",
   "metadata": {},
   "source": [
    "###### Approach #2 by using business driven derived column"
   ]
  },
  {
   "cell_type": "code",
   "execution_count": 8,
   "id": "7dd6fe51",
   "metadata": {},
   "outputs": [],
   "source": [
    "data['score_century'] = data['Runs'] >= 100"
   ]
  },
  {
   "cell_type": "code",
   "execution_count": 9,
   "id": "a796f422",
   "metadata": {},
   "outputs": [],
   "source": [
    "data['score_century'] = data['score_century'].astype('int32')"
   ]
  },
  {
   "cell_type": "code",
   "execution_count": 10,
   "id": "bf6b5036",
   "metadata": {},
   "outputs": [],
   "source": [
    "X = data.groupby(by = 'Player')['score_century'].sum()"
   ]
  },
  {
   "cell_type": "code",
   "execution_count": 11,
   "id": "221a2d0e",
   "metadata": {},
   "outputs": [
    {
     "data": {
      "text/plain": [
       "Player\n",
       "Sachin R Tendulkar    48\n",
       "Name: score_century, dtype: int32"
      ]
     },
     "execution_count": 11,
     "metadata": {},
     "output_type": "execute_result"
    }
   ],
   "source": [
    "X[X == X.max()]"
   ]
  },
  {
   "cell_type": "markdown",
   "id": "250eab38",
   "metadata": {},
   "source": [
    "#### Q2) Among all the innings where a century was scored by a batsman, which one has the highest strike rate?"
   ]
  },
  {
   "cell_type": "code",
   "execution_count": 12,
   "id": "450980c6",
   "metadata": {},
   "outputs": [],
   "source": [
    "filter_data_by_century = data[data['Runs'] >= 100]"
   ]
  },
  {
   "cell_type": "code",
   "execution_count": 13,
   "id": "63571c6a",
   "metadata": {},
   "outputs": [
    {
     "data": {
      "text/html": [
       "<div>\n",
       "<style scoped>\n",
       "    .dataframe tbody tr th:only-of-type {\n",
       "        vertical-align: middle;\n",
       "    }\n",
       "\n",
       "    .dataframe tbody tr th {\n",
       "        vertical-align: top;\n",
       "    }\n",
       "\n",
       "    .dataframe thead th {\n",
       "        text-align: right;\n",
       "    }\n",
       "</style>\n",
       "<table border=\"1\" class=\"dataframe\">\n",
       "  <thead>\n",
       "    <tr style=\"text-align: right;\">\n",
       "      <th></th>\n",
       "      <th>Country</th>\n",
       "      <th>Player</th>\n",
       "      <th>Runs</th>\n",
       "      <th>MatchDate</th>\n",
       "      <th>Weekday</th>\n",
       "      <th>Ground</th>\n",
       "      <th>Versus</th>\n",
       "      <th>Balls</th>\n",
       "      <th>score_century</th>\n",
       "    </tr>\n",
       "  </thead>\n",
       "  <tbody>\n",
       "    <tr>\n",
       "      <th>0</th>\n",
       "      <td>Afghanistan</td>\n",
       "      <td>Mohammad Shahzad</td>\n",
       "      <td>118</td>\n",
       "      <td>16-02-2010</td>\n",
       "      <td>Tue</td>\n",
       "      <td>Sharjah CA Stadium</td>\n",
       "      <td>Canada</td>\n",
       "      <td>121</td>\n",
       "      <td>1</td>\n",
       "    </tr>\n",
       "    <tr>\n",
       "      <th>1</th>\n",
       "      <td>Afghanistan</td>\n",
       "      <td>Mohammad Shahzad</td>\n",
       "      <td>110</td>\n",
       "      <td>01-09-2009</td>\n",
       "      <td>Tue</td>\n",
       "      <td>VRA Ground</td>\n",
       "      <td>Netherlands</td>\n",
       "      <td>111</td>\n",
       "      <td>1</td>\n",
       "    </tr>\n",
       "    <tr>\n",
       "      <th>2</th>\n",
       "      <td>Afghanistan</td>\n",
       "      <td>Mohammad Shahzad</td>\n",
       "      <td>100</td>\n",
       "      <td>16-08-2010</td>\n",
       "      <td>Mon</td>\n",
       "      <td>Cambusdoon New Ground</td>\n",
       "      <td>Scotland</td>\n",
       "      <td>72</td>\n",
       "      <td>1</td>\n",
       "    </tr>\n",
       "    <tr>\n",
       "      <th>62</th>\n",
       "      <td>Afghanistan</td>\n",
       "      <td>Noor Ali Zadran</td>\n",
       "      <td>114</td>\n",
       "      <td>16-02-2010</td>\n",
       "      <td>Tue</td>\n",
       "      <td>Sharjah CA Stadium</td>\n",
       "      <td>Canada</td>\n",
       "      <td>127</td>\n",
       "      <td>1</td>\n",
       "    </tr>\n",
       "    <tr>\n",
       "      <th>87</th>\n",
       "      <td>Afghanistan</td>\n",
       "      <td>Karim Sadiq</td>\n",
       "      <td>114</td>\n",
       "      <td>16-08-2010</td>\n",
       "      <td>Mon</td>\n",
       "      <td>Cambusdoon New Ground</td>\n",
       "      <td>Scotland</td>\n",
       "      <td>108</td>\n",
       "      <td>1</td>\n",
       "    </tr>\n",
       "  </tbody>\n",
       "</table>\n",
       "</div>"
      ],
      "text/plain": [
       "        Country            Player  Runs   MatchDate Weekday  \\\n",
       "0   Afghanistan  Mohammad Shahzad   118  16-02-2010     Tue   \n",
       "1   Afghanistan  Mohammad Shahzad   110  01-09-2009     Tue   \n",
       "2   Afghanistan  Mohammad Shahzad   100  16-08-2010     Mon   \n",
       "62  Afghanistan   Noor Ali Zadran   114  16-02-2010     Tue   \n",
       "87  Afghanistan      Karim Sadiq    114  16-08-2010     Mon   \n",
       "\n",
       "                   Ground       Versus  Balls  score_century  \n",
       "0      Sharjah CA Stadium       Canada    121              1  \n",
       "1              VRA Ground  Netherlands    111              1  \n",
       "2   Cambusdoon New Ground     Scotland     72              1  \n",
       "62     Sharjah CA Stadium       Canada    127              1  \n",
       "87  Cambusdoon New Ground     Scotland    108              1  "
      ]
     },
     "execution_count": 13,
     "metadata": {},
     "output_type": "execute_result"
    }
   ],
   "source": [
    "filter_data_by_century.head()"
   ]
  },
  {
   "cell_type": "code",
   "execution_count": 14,
   "id": "b214ce92",
   "metadata": {},
   "outputs": [
    {
     "name": "stderr",
     "output_type": "stream",
     "text": [
      "C:\\Users\\vimishra\\AppData\\Local\\Temp\\ipykernel_15172\\1178509839.py:1: SettingWithCopyWarning: \n",
      "A value is trying to be set on a copy of a slice from a DataFrame.\n",
      "Try using .loc[row_indexer,col_indexer] = value instead\n",
      "\n",
      "See the caveats in the documentation: https://pandas.pydata.org/pandas-docs/stable/user_guide/indexing.html#returning-a-view-versus-a-copy\n",
      "  filter_data_by_century['strike_rate'] = filter_data_by_century['Runs'] / filter_data_by_century['Balls']\n"
     ]
    }
   ],
   "source": [
    "filter_data_by_century['strike_rate'] = filter_data_by_century['Runs'] / filter_data_by_century['Balls']"
   ]
  },
  {
   "cell_type": "code",
   "execution_count": 16,
   "id": "7b35a2a4",
   "metadata": {},
   "outputs": [
    {
     "data": {
      "text/html": [
       "<div>\n",
       "<style scoped>\n",
       "    .dataframe tbody tr th:only-of-type {\n",
       "        vertical-align: middle;\n",
       "    }\n",
       "\n",
       "    .dataframe tbody tr th {\n",
       "        vertical-align: top;\n",
       "    }\n",
       "\n",
       "    .dataframe thead th {\n",
       "        text-align: right;\n",
       "    }\n",
       "</style>\n",
       "<table border=\"1\" class=\"dataframe\">\n",
       "  <thead>\n",
       "    <tr style=\"text-align: right;\">\n",
       "      <th></th>\n",
       "      <th>Country</th>\n",
       "      <th>Player</th>\n",
       "      <th>Runs</th>\n",
       "      <th>MatchDate</th>\n",
       "      <th>Weekday</th>\n",
       "      <th>Ground</th>\n",
       "      <th>Versus</th>\n",
       "      <th>Balls</th>\n",
       "      <th>score_century</th>\n",
       "      <th>strike_rate</th>\n",
       "    </tr>\n",
       "  </thead>\n",
       "  <tbody>\n",
       "    <tr>\n",
       "      <th>28157</th>\n",
       "      <td>Pakistan</td>\n",
       "      <td>Shahid Afridi</td>\n",
       "      <td>102</td>\n",
       "      <td>04-10-1996</td>\n",
       "      <td>Fri</td>\n",
       "      <td>Gymkhana Club Ground</td>\n",
       "      <td>Sri Lanka</td>\n",
       "      <td>40</td>\n",
       "      <td>1</td>\n",
       "      <td>2.55</td>\n",
       "    </tr>\n",
       "  </tbody>\n",
       "</table>\n",
       "</div>"
      ],
      "text/plain": [
       "        Country         Player  Runs   MatchDate Weekday  \\\n",
       "28157  Pakistan  Shahid Afridi   102  04-10-1996     Fri   \n",
       "\n",
       "                     Ground     Versus  Balls  score_century  strike_rate  \n",
       "28157  Gymkhana Club Ground  Sri Lanka     40              1         2.55  "
      ]
     },
     "execution_count": 16,
     "metadata": {},
     "output_type": "execute_result"
    }
   ],
   "source": [
    "filter_data_by_century[filter_data_by_century['strike_rate'] == filter_data_by_century['strike_rate'].max()]"
   ]
  },
  {
   "cell_type": "markdown",
   "id": "af3c2e98",
   "metadata": {},
   "source": [
    "#### Q3) In which year were the maximum number of centuries scored by Indian players?"
   ]
  },
  {
   "cell_type": "code",
   "execution_count": 23,
   "id": "d0cf6e80",
   "metadata": {},
   "outputs": [],
   "source": [
    "indian_players = data[data['Country'] == 'India']"
   ]
  },
  {
   "cell_type": "code",
   "execution_count": 24,
   "id": "2bf73606",
   "metadata": {},
   "outputs": [
    {
     "name": "stderr",
     "output_type": "stream",
     "text": [
      "C:\\Users\\vimishra\\AppData\\Local\\Temp\\ipykernel_15172\\2556921469.py:1: SettingWithCopyWarning: \n",
      "A value is trying to be set on a copy of a slice from a DataFrame.\n",
      "Try using .loc[row_indexer,col_indexer] = value instead\n",
      "\n",
      "See the caveats in the documentation: https://pandas.pydata.org/pandas-docs/stable/user_guide/indexing.html#returning-a-view-versus-a-copy\n",
      "  indian_players['year'] = pd.DatetimeIndex(indian_players['MatchDate']).year\n"
     ]
    }
   ],
   "source": [
    "indian_players['year'] = pd.DatetimeIndex(indian_players['MatchDate']).year"
   ]
  },
  {
   "cell_type": "code",
   "execution_count": 25,
   "id": "d4732144",
   "metadata": {},
   "outputs": [
    {
     "data": {
      "text/html": [
       "<div>\n",
       "<style scoped>\n",
       "    .dataframe tbody tr th:only-of-type {\n",
       "        vertical-align: middle;\n",
       "    }\n",
       "\n",
       "    .dataframe tbody tr th {\n",
       "        vertical-align: top;\n",
       "    }\n",
       "\n",
       "    .dataframe thead th {\n",
       "        text-align: right;\n",
       "    }\n",
       "</style>\n",
       "<table border=\"1\" class=\"dataframe\">\n",
       "  <thead>\n",
       "    <tr style=\"text-align: right;\">\n",
       "      <th></th>\n",
       "      <th>Country</th>\n",
       "      <th>Player</th>\n",
       "      <th>Runs</th>\n",
       "      <th>MatchDate</th>\n",
       "      <th>Weekday</th>\n",
       "      <th>Ground</th>\n",
       "      <th>Versus</th>\n",
       "      <th>Balls</th>\n",
       "      <th>score_century</th>\n",
       "      <th>year</th>\n",
       "    </tr>\n",
       "  </thead>\n",
       "  <tbody>\n",
       "    <tr>\n",
       "      <th>13601</th>\n",
       "      <td>India</td>\n",
       "      <td>Sachin R Tendulkar</td>\n",
       "      <td>200</td>\n",
       "      <td>24-02-2010</td>\n",
       "      <td>Wed</td>\n",
       "      <td>Captain Roop Singh Stadium</td>\n",
       "      <td>South Africa</td>\n",
       "      <td>147</td>\n",
       "      <td>1</td>\n",
       "      <td>2010</td>\n",
       "    </tr>\n",
       "    <tr>\n",
       "      <th>13602</th>\n",
       "      <td>India</td>\n",
       "      <td>Sachin R Tendulkar</td>\n",
       "      <td>186</td>\n",
       "      <td>08-11-1999</td>\n",
       "      <td>Mon</td>\n",
       "      <td>Lal Bahadur Shastri Stadium</td>\n",
       "      <td>New Zealand</td>\n",
       "      <td>150</td>\n",
       "      <td>1</td>\n",
       "      <td>1999</td>\n",
       "    </tr>\n",
       "    <tr>\n",
       "      <th>13603</th>\n",
       "      <td>India</td>\n",
       "      <td>Sachin R Tendulkar</td>\n",
       "      <td>175</td>\n",
       "      <td>05-11-2009</td>\n",
       "      <td>Thu</td>\n",
       "      <td>Rajiv Gandhi International Stadium</td>\n",
       "      <td>Australia</td>\n",
       "      <td>141</td>\n",
       "      <td>1</td>\n",
       "      <td>2009</td>\n",
       "    </tr>\n",
       "    <tr>\n",
       "      <th>13604</th>\n",
       "      <td>India</td>\n",
       "      <td>Sachin R Tendulkar</td>\n",
       "      <td>163</td>\n",
       "      <td>08-03-2009</td>\n",
       "      <td>Sun</td>\n",
       "      <td>AMI Stadium</td>\n",
       "      <td>New Zealand</td>\n",
       "      <td>133</td>\n",
       "      <td>1</td>\n",
       "      <td>2009</td>\n",
       "    </tr>\n",
       "    <tr>\n",
       "      <th>13605</th>\n",
       "      <td>India</td>\n",
       "      <td>Sachin R Tendulkar</td>\n",
       "      <td>152</td>\n",
       "      <td>23-02-2003</td>\n",
       "      <td>Sun</td>\n",
       "      <td>City Oval</td>\n",
       "      <td>Namibia</td>\n",
       "      <td>151</td>\n",
       "      <td>1</td>\n",
       "      <td>2003</td>\n",
       "    </tr>\n",
       "  </tbody>\n",
       "</table>\n",
       "</div>"
      ],
      "text/plain": [
       "      Country              Player  Runs   MatchDate Weekday  \\\n",
       "13601   India  Sachin R Tendulkar   200  24-02-2010     Wed   \n",
       "13602   India  Sachin R Tendulkar   186  08-11-1999     Mon   \n",
       "13603   India  Sachin R Tendulkar   175  05-11-2009     Thu   \n",
       "13604   India  Sachin R Tendulkar   163  08-03-2009     Sun   \n",
       "13605   India  Sachin R Tendulkar   152  23-02-2003     Sun   \n",
       "\n",
       "                                   Ground        Versus  Balls  score_century  \\\n",
       "13601          Captain Roop Singh Stadium  South Africa    147              1   \n",
       "13602         Lal Bahadur Shastri Stadium   New Zealand    150              1   \n",
       "13603  Rajiv Gandhi International Stadium     Australia    141              1   \n",
       "13604                         AMI Stadium   New Zealand    133              1   \n",
       "13605                           City Oval       Namibia    151              1   \n",
       "\n",
       "       year  \n",
       "13601  2010  \n",
       "13602  1999  \n",
       "13603  2009  \n",
       "13604  2009  \n",
       "13605  2003  "
      ]
     },
     "execution_count": 25,
     "metadata": {},
     "output_type": "execute_result"
    }
   ],
   "source": [
    "indian_players.head()"
   ]
  },
  {
   "cell_type": "code",
   "execution_count": 27,
   "id": "19d68a3c",
   "metadata": {},
   "outputs": [],
   "source": [
    "X = indian_players.groupby(by = 'year')['score_century'].sum()"
   ]
  },
  {
   "cell_type": "code",
   "execution_count": 28,
   "id": "a2c73d08",
   "metadata": {},
   "outputs": [
    {
     "data": {
      "text/plain": [
       "year\n",
       "1998    18\n",
       "Name: score_century, dtype: int32"
      ]
     },
     "execution_count": 28,
     "metadata": {},
     "output_type": "execute_result"
    }
   ],
   "source": [
    "X[X == X.max()]"
   ]
  },
  {
   "cell_type": "code",
   "execution_count": null,
   "id": "2ed43ba0",
   "metadata": {},
   "outputs": [],
   "source": []
  }
 ],
 "metadata": {
  "kernelspec": {
   "display_name": "Python 3 (ipykernel)",
   "language": "python",
   "name": "python3"
  },
  "language_info": {
   "codemirror_mode": {
    "name": "ipython",
    "version": 3
   },
   "file_extension": ".py",
   "mimetype": "text/x-python",
   "name": "python",
   "nbconvert_exporter": "python",
   "pygments_lexer": "ipython3",
   "version": "3.11.5"
  }
 },
 "nbformat": 4,
 "nbformat_minor": 5
}
