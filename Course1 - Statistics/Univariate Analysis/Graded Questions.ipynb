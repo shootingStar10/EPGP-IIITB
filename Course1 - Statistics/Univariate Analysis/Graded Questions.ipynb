{
 "cells": [
  {
   "cell_type": "code",
   "execution_count": 1,
   "id": "1f316161",
   "metadata": {},
   "outputs": [],
   "source": [
    "import numpy as np\n",
    "import pandas as pd\n",
    "import matplotlib.pyplot as plt\n",
    "import seaborn as sns"
   ]
  },
  {
   "cell_type": "code",
   "execution_count": 2,
   "id": "4c6069cd",
   "metadata": {},
   "outputs": [
    {
     "data": {
      "text/plain": [
       "(39644, 61)"
      ]
     },
     "execution_count": 2,
     "metadata": {},
     "output_type": "execute_result"
    }
   ],
   "source": [
    "popularity_data = pd.read_csv('popularity.csv')\n",
    "popularity_data.shape"
   ]
  },
  {
   "cell_type": "code",
   "execution_count": 4,
   "id": "f71f568b",
   "metadata": {},
   "outputs": [
    {
     "data": {
      "text/plain": [
       "count     39644.000000\n",
       "mean       3395.380184\n",
       "std       11626.950749\n",
       "min           1.000000\n",
       "25%         946.000000\n",
       "50%        1400.000000\n",
       "75%        2800.000000\n",
       "max      843300.000000\n",
       "Name:  shares, dtype: float64"
      ]
     },
     "execution_count": 4,
     "metadata": {},
     "output_type": "execute_result"
    }
   ],
   "source": [
    "# Compare the summary metrics of shares and choose the correct statement:\n",
    "popularity_data[' shares'].describe()"
   ]
  },
  {
   "cell_type": "code",
   "execution_count": 5,
   "id": "c1071082",
   "metadata": {},
   "outputs": [
    {
     "data": {
      "text/plain": [
       "3100.0"
      ]
     },
     "execution_count": 5,
     "metadata": {},
     "output_type": "execute_result"
    }
   ],
   "source": [
    "# What number of shares falls at the 78th percentile?\n",
    "popularity_data[' shares'].quantile(0.78)"
   ]
  },
  {
   "cell_type": "code",
   "execution_count": 15,
   "id": "90be72ac",
   "metadata": {},
   "outputs": [
    {
     "data": {
      "text/plain": [
       "3400.0"
      ]
     },
     "execution_count": 15,
     "metadata": {},
     "output_type": "execute_result"
    }
   ],
   "source": [
    "# The mean number of shares lies between:\n",
    "popularity_data[' shares'].quantile(0.80)"
   ]
  },
  {
   "cell_type": "code",
   "execution_count": 7,
   "id": "4481c404",
   "metadata": {},
   "outputs": [],
   "source": [
    "# What is the mean number of shares after removing the outliers?\n",
    "# cols = [' shares'] # one or more\n",
    "\n",
    "# Q1 = popularity_data[cols].quantile(0.25)\n",
    "# Q3 = popularity_data[cols].quantile(0.75)\n",
    "# IQR = Q3 - Q1\n",
    "\n",
    "# popularity_data = popularity_data[~((popularity_data[cols] < (Q1 - 1.5 * IQR)) |(popularity_data[cols] > (Q3 + 1.5 * IQR))).any(axis=1)]"
   ]
  },
  {
   "cell_type": "code",
   "execution_count": 8,
   "id": "bc793d8e",
   "metadata": {},
   "outputs": [
    {
     "data": {
      "image/png": "[encoded data removed]",
      "text/plain": [
       "<Figure size 640x480 with 1 Axes>"
      ]
     },
     "metadata": {},
     "output_type": "display_data"
    }
   ],
   "source": [
    "sns.boxplot(popularity_data[' shares'])\n",
    "plt.show()"
   ]
  },
  {
   "cell_type": "code",
   "execution_count": 11,
   "id": "bc7acd75",
   "metadata": {},
   "outputs": [],
   "source": [
    "X = popularity_data[~ (popularity_data[' shares'] > 10800)  ]"
   ]
  },
  {
   "cell_type": "code",
   "execution_count": 12,
   "id": "3e5d6549",
   "metadata": {},
   "outputs": [
    {
     "data": {
      "text/plain": [
       "count    37663.000000\n",
       "mean      2074.334387\n",
       "std       1871.814139\n",
       "min          1.000000\n",
       "25%        927.000000\n",
       "50%       1400.000000\n",
       "75%       2400.000000\n",
       "max      10800.000000\n",
       "Name:  shares, dtype: float64"
      ]
     },
     "execution_count": 12,
     "metadata": {},
     "output_type": "execute_result"
    }
   ],
   "source": [
    "X[' shares'].describe()"
   ]
  },
  {
   "cell_type": "code",
   "execution_count": 16,
   "id": "0a41e19e",
   "metadata": {},
   "outputs": [
    {
     "data": {
      "text/plain": [
       "1871.8141388442016"
      ]
     },
     "execution_count": 16,
     "metadata": {},
     "output_type": "execute_result"
    }
   ],
   "source": [
    "# What is the approximate standard deviation of the shares after removing the outliers?\n",
    "X[' shares'].std()"
   ]
  },
  {
   "cell_type": "code",
   "execution_count": null,
   "id": "8c729841",
   "metadata": {},
   "outputs": [],
   "source": []
  }
 ],
 "metadata": {
  "kernelspec": {
   "display_name": "Python 3 (ipykernel)",
   "language": "python",
   "name": "python3"
  },
  "language_info": {
   "codemirror_mode": {
    "name": "ipython",
    "version": 3
   },
   "file_extension": ".py",
   "mimetype": "text/x-python",
   "name": "python",
   "nbconvert_exporter": "python",
   "pygments_lexer": "ipython3",
   "version": "3.11.5"
  }
 },
 "nbformat": 4,
 "nbformat_minor": 5
}
