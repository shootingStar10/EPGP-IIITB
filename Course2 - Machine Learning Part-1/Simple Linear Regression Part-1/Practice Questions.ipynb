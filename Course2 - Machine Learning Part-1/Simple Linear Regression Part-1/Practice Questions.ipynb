{
 "cells": [
  {
   "cell_type": "markdown",
   "id": "71f51533",
   "metadata": {},
   "source": [
    "# Simple Linear Regression Part I"
   ]
  },
  {
   "cell_type": "code",
   "execution_count": 1,
   "id": "69a5d14c",
   "metadata": {},
   "outputs": [],
   "source": [
    "import numpy as np"
   ]
  },
  {
   "cell_type": "code",
   "execution_count": 2,
   "id": "a5324001",
   "metadata": {},
   "outputs": [],
   "source": [
    "# data\n",
    "X =  np.array([1, 2, 4, 6, 8])\n",
    "Y =  np.array([3, 5, 5, 4, 8])"
   ]
  },
  {
   "cell_type": "code",
   "execution_count": 3,
   "id": "b22cab5b",
   "metadata": {},
   "outputs": [
    {
     "data": {
      "text/plain": [
       "array([3.5, 4. , 5. , 6. , 7. ])"
      ]
     },
     "execution_count": 3,
     "metadata": {},
     "output_type": "execute_result"
    }
   ],
   "source": [
    "# regression line\n",
    "Yp = X / 2 + 3\n",
    "Yp"
   ]
  },
  {
   "cell_type": "markdown",
   "id": "38b00d33",
   "metadata": {},
   "source": [
    "### Q1) Find the value of RSS for this regression line."
   ]
  },
  {
   "cell_type": "code",
   "execution_count": 4,
   "id": "bad85bec",
   "metadata": {},
   "outputs": [
    {
     "data": {
      "text/plain": [
       "6.25"
      ]
     },
     "execution_count": 4,
     "metadata": {},
     "output_type": "execute_result"
    }
   ],
   "source": [
    "rss = np.sum((Y - Yp) ** 2)\n",
    "rss"
   ]
  },
  {
   "cell_type": "markdown",
   "id": "d5e20ec9",
   "metadata": {},
   "source": [
    "### Q2) Find the value of TSS for this regression line."
   ]
  },
  {
   "cell_type": "code",
   "execution_count": 5,
   "id": "e76c617a",
   "metadata": {},
   "outputs": [
    {
     "data": {
      "text/plain": [
       "14.0"
      ]
     },
     "execution_count": 5,
     "metadata": {},
     "output_type": "execute_result"
    }
   ],
   "source": [
    "y_mean = Y.mean()\n",
    "tss = np.sum((Y - y_mean) ** 2)\n",
    "tss"
   ]
  },
  {
   "cell_type": "markdown",
   "id": "bf625a85",
   "metadata": {},
   "source": [
    "### Q3) What would be the R² for this regression line?"
   ]
  },
  {
   "cell_type": "code",
   "execution_count": 6,
   "id": "2db98590",
   "metadata": {},
   "outputs": [
    {
     "data": {
      "text/plain": [
       "0.5535714285714286"
      ]
     },
     "execution_count": 6,
     "metadata": {},
     "output_type": "execute_result"
    }
   ],
   "source": [
    "r2 = 1 - rss / tss\n",
    "r2"
   ]
  },
  {
   "cell_type": "markdown",
   "id": "c3d4bc59",
   "metadata": {},
   "source": [
    "# Interview Practice Questions"
   ]
  },
  {
   "cell_type": "markdown",
   "id": "fa22d03b",
   "metadata": {},
   "source": [
    " Q1) The value of the correlation coefficient will always be:\n",
    " ##### Ans) Between -1 and 1\n",
    "\n",
    " Q2) The strength of a linear regression line is determined by the value of the R-squared. If this value is found to be 0, what does it imply?\n",
    " ##### Ans) No variance in the data is being explained by the fitted line.\n",
    "\n",
    " Q3) Suppose that you run a linear regression on the data, where you have X as the independent variable and y as the target variable. You find that the correlation between y and X is -0.92. What can you say in this situation?\n",
    " ##### Ans) X and y are strongly related."
   ]
  },
  {
   "cell_type": "markdown",
   "id": "fd3ad536",
   "metadata": {},
   "source": [
    "# Graded Questions"
   ]
  },
  {
   "cell_type": "markdown",
   "id": "064d5f05",
   "metadata": {},
   "source": [
    "### Q1) \n",
    "A Singapore-based startup Healin launched an app called JustShakeIt, which enables a user to send an emergency alert to emergency contacts and/or caregivers simply by shaking the phone with one hand. The program uses a machine learning algorithm to distinguish between actual emergency shakes and everyday jostling, using data with labels.\n",
    "\n",
    "What kind of problem is this?\n",
    "\n",
    "### Ans) Supervised learning-Classification\n",
    "The algorithm has to distinguish between actual emergency shakes and everyday jostling. Here, your output variable has predefined labels (shake/jostle), which are categorical in nature. So, this is a supervised learning-classification problem."
   ]
  },
  {
   "cell_type": "markdown",
   "id": "c15e87b2",
   "metadata": {},
   "source": [
    "### Q2) Select all the tasks where linear regression algorithm can be applied.\n",
    "### Ans)\n",
    "1.) You have a dataset of BMI (body mass index) and the fat percentage of the customers of a fitness centre. Now, the fitness centre wants to predict the fat percentage of a new customer, given his BMI.\n",
    "##### Feedback: \n",
    "Here, the output variable (dependent variable, which is to be predicted) is the fat percentage, which is a numeric variable. So, this is a regression task.\n",
    "\n",
    "2.) You want to predict the sales of a retail store based on its size, given the dataset of sales of retail stores and their sizes.\n",
    "##### Feedback:\n",
    "Here, the output variable (dependent variable, which is to be predicted) is sales, which is a numeric variable. So, this is a regression task."
   ]
  },
  {
   "cell_type": "markdown",
   "id": "b8e200d0",
   "metadata": {},
   "source": [
    "### Q3)\n",
    "The independent variable X from a linear regression is measured in miles. If you convert it to kilometres (keeping the unit of the dependent variable Y the same), how will the slope coefficient change? (Note: 1 mile = 1.6 km)\n",
    "\n",
    "### Ans) It will get divided by 1.6."
   ]
  },
  {
   "cell_type": "markdown",
   "id": "0feef066",
   "metadata": {},
   "source": [
    "### Q4) \n",
    "You want to find the linear relation between the number of X-ray machines purchased at one time and the cost per machine. The following data has been obtained on the same:"
   ]
  },
  {
   "cell_type": "code",
   "execution_count": 7,
   "id": "39527bb2",
   "metadata": {},
   "outputs": [],
   "source": [
    "X = np.array([1, 3, 6, 10, 15])\n",
    "Y = np.array([89, 85, 79, 73, 64])"
   ]
  },
  {
   "cell_type": "markdown",
   "id": "91915fbe",
   "metadata": {},
   "source": [
    "Suppose the R² between X and Y is 0.87. Which of the following conclusions can you draw from this?"
   ]
  },
  {
   "cell_type": "markdown",
   "id": "9acc409a",
   "metadata": {},
   "source": [
    "### Ans) \n",
    "The linear relation between X and Y is strong, and their correlation will be negative."
   ]
  },
  {
   "cell_type": "code",
   "execution_count": 8,
   "id": "d699d867",
   "metadata": {},
   "outputs": [
    {
     "data": {
      "text/plain": [
       "array([[ 1.        , -0.99890611],\n",
       "       [-0.99890611,  1.        ]])"
      ]
     },
     "execution_count": 8,
     "metadata": {},
     "output_type": "execute_result"
    }
   ],
   "source": [
    "np.corrcoef(X, Y)"
   ]
  },
  {
   "cell_type": "code",
   "execution_count": null,
   "id": "3b1ff6b6",
   "metadata": {},
   "outputs": [],
   "source": []
  }
 ],
 "metadata": {
  "kernelspec": {
   "display_name": "Python 3 (ipykernel)",
   "language": "python",
   "name": "python3"
  },
  "language_info": {
   "codemirror_mode": {
    "name": "ipython",
    "version": 3
   },
   "file_extension": ".py",
   "mimetype": "text/x-python",
   "name": "python",
   "nbconvert_exporter": "python",
   "pygments_lexer": "ipython3",
   "version": "3.11.5"
  }
 },
 "nbformat": 4,
 "nbformat_minor": 5
}
