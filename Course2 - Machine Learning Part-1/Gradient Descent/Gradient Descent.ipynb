{
 "cells": [
  {
   "cell_type": "markdown",
   "id": "a64e278b",
   "metadata": {},
   "source": [
    "# Gradient Descent Implementation in Linear Regression\n",
    "\n",
    "\n",
    "In this notebook, we'll build a linear regression model to predict **Sales** using an appropriate predictor variable."
   ]
  },
  {
   "cell_type": "markdown",
   "id": "71a5e4b2",
   "metadata": {},
   "source": [
    "### Importing necessary library"
   ]
  },
  {
   "cell_type": "code",
   "execution_count": 14,
   "id": "0f410b90",
   "metadata": {},
   "outputs": [],
   "source": [
    "import numpy as np\n",
    "import pandas as pd\n",
    "\n",
    "import sklearn\n",
    "from sklearn.model_selection import train_test_split\n",
    "\n",
    "import statsmodels.api as sm\n",
    "\n",
    "import matplotlib.pyplot as plt"
   ]
  },
  {
   "cell_type": "code",
   "execution_count": 2,
   "id": "242bd22c",
   "metadata": {},
   "outputs": [
    {
     "data": {
      "text/html": [
       "<div>\n",
       "<style scoped>\n",
       "    .dataframe tbody tr th:only-of-type {\n",
       "        vertical-align: middle;\n",
       "    }\n",
       "\n",
       "    .dataframe tbody tr th {\n",
       "        vertical-align: top;\n",
       "    }\n",
       "\n",
       "    .dataframe thead th {\n",
       "        text-align: right;\n",
       "    }\n",
       "</style>\n",
       "<table border=\"1\" class=\"dataframe\">\n",
       "  <thead>\n",
       "    <tr style=\"text-align: right;\">\n",
       "      <th></th>\n",
       "      <th>TV</th>\n",
       "      <th>Radio</th>\n",
       "      <th>Newspaper</th>\n",
       "      <th>Sales</th>\n",
       "    </tr>\n",
       "  </thead>\n",
       "  <tbody>\n",
       "    <tr>\n",
       "      <th>0</th>\n",
       "      <td>230.1</td>\n",
       "      <td>37.8</td>\n",
       "      <td>69.2</td>\n",
       "      <td>22.1</td>\n",
       "    </tr>\n",
       "    <tr>\n",
       "      <th>1</th>\n",
       "      <td>44.5</td>\n",
       "      <td>39.3</td>\n",
       "      <td>45.1</td>\n",
       "      <td>10.4</td>\n",
       "    </tr>\n",
       "    <tr>\n",
       "      <th>2</th>\n",
       "      <td>17.2</td>\n",
       "      <td>45.9</td>\n",
       "      <td>69.3</td>\n",
       "      <td>12.0</td>\n",
       "    </tr>\n",
       "    <tr>\n",
       "      <th>3</th>\n",
       "      <td>151.5</td>\n",
       "      <td>41.3</td>\n",
       "      <td>58.5</td>\n",
       "      <td>16.5</td>\n",
       "    </tr>\n",
       "    <tr>\n",
       "      <th>4</th>\n",
       "      <td>180.8</td>\n",
       "      <td>10.8</td>\n",
       "      <td>58.4</td>\n",
       "      <td>17.9</td>\n",
       "    </tr>\n",
       "  </tbody>\n",
       "</table>\n",
       "</div>"
      ],
      "text/plain": [
       "      TV  Radio  Newspaper  Sales\n",
       "0  230.1   37.8       69.2   22.1\n",
       "1   44.5   39.3       45.1   10.4\n",
       "2   17.2   45.9       69.3   12.0\n",
       "3  151.5   41.3       58.5   16.5\n",
       "4  180.8   10.8       58.4   17.9"
      ]
     },
     "execution_count": 2,
     "metadata": {},
     "output_type": "execute_result"
    }
   ],
   "source": [
    "data = pd.read_csv('advertising.csv')\n",
    "data.head()"
   ]
  },
  {
   "cell_type": "markdown",
   "id": "26e141d1",
   "metadata": {},
   "source": [
    "In above dataset TV as our predictor variable and Sales will be our target variable."
   ]
  },
  {
   "cell_type": "code",
   "execution_count": 3,
   "id": "dee0cef2",
   "metadata": {},
   "outputs": [
    {
     "data": {
      "text/plain": [
       "(200, 4)"
      ]
     },
     "execution_count": 3,
     "metadata": {},
     "output_type": "execute_result"
    }
   ],
   "source": [
    "data.shape"
   ]
  },
  {
   "cell_type": "markdown",
   "id": "6716d983",
   "metadata": {},
   "source": [
    "### Linear regression mathematics"
   ]
  },
  {
   "cell_type": "markdown",
   "id": "c0914364",
   "metadata": {},
   "source": [
    "Optimial coefficients are given by the following relation in batch gradient descent\n",
    "\n",
    "$$ W = (X^{T}X)^{-1} (X^{T}Y)$$"
   ]
  },
  {
   "cell_type": "code",
   "execution_count": 4,
   "id": "eb84927d",
   "metadata": {},
   "outputs": [],
   "source": [
    "def linear_regression(X, y):\n",
    "    X_transpose = np.transpose(X)\n",
    "    lv = np.linalg.inv(np.dot(X_transpose, X))\n",
    "    rv = np.dot(X_transpose, y)\n",
    "    return np.dot(lv, rv)"
   ]
  },
  {
   "cell_type": "code",
   "execution_count": 5,
   "id": "df5b45ed",
   "metadata": {},
   "outputs": [],
   "source": [
    "# create X and y\n",
    "\n",
    "X = data['TV']\n",
    "y = data['Sales']"
   ]
  },
  {
   "cell_type": "code",
   "execution_count": 6,
   "id": "7ad9a54a",
   "metadata": {},
   "outputs": [],
   "source": [
    "# split train and test data using 70-30 rule\n",
    "\n",
    "X_train, X_test, y_train, y_test = train_test_split(X, y, train_size=0.7, random_state=100)\n",
    "\n",
    "X_train_sm = sm.add_constant(X_train)"
   ]
  },
  {
   "cell_type": "code",
   "execution_count": 7,
   "id": "9ec79e76",
   "metadata": {},
   "outputs": [],
   "source": [
    "# train model using custom linear regression method\n",
    "\n",
    "model = linear_regression(X_train_sm, y_train)"
   ]
  },
  {
   "cell_type": "code",
   "execution_count": 8,
   "id": "9e662e13",
   "metadata": {},
   "outputs": [],
   "source": [
    "# regression coefficients \n",
    "\n",
    "beta_0 = round(model[0], 3)\n",
    "beta_1 = round(model[1], 3)"
   ]
  },
  {
   "cell_type": "code",
   "execution_count": 9,
   "id": "8969edb9",
   "metadata": {},
   "outputs": [
    {
     "data": {
      "image/png": "[encoded data removed]",
      "text/plain": [
       "<Figure size 640x480 with 1 Axes>"
      ]
     },
     "metadata": {},
     "output_type": "display_data"
    }
   ],
   "source": [
    "# plot regression line on training set\n",
    "\n",
    "plt.scatter(X_train, y_train, label = 'Training Data')\n",
    "plt.plot(X_train, beta_0 + beta_1 * X_train, 'r', label = f'Regression Line: y = {beta_1}x + {beta_0}')\n",
    "plt.legend()\n",
    "plt.show()"
   ]
  },
  {
   "cell_type": "code",
   "execution_count": 10,
   "id": "37e1f314",
   "metadata": {},
   "outputs": [
    {
     "data": {
      "text/plain": [
       "0.816"
      ]
     },
     "execution_count": 10,
     "metadata": {},
     "output_type": "execute_result"
    }
   ],
   "source": [
    "# r-squared value\n",
    "\n",
    "y_train_pred = beta_0 + beta_1 * X_train\n",
    "rss = sum((y_train_pred - y_train) ** 2)\n",
    "tss = sum((y_train - np.mean(y_train)) ** 2)\n",
    "\n",
    "r2_train = 1 - (rss / tss)\n",
    "round(r2_train, 3)"
   ]
  },
  {
   "cell_type": "code",
   "execution_count": 11,
   "id": "c2aebee0",
   "metadata": {},
   "outputs": [
    {
     "data": {
      "image/png": "[encoded data removed]",
      "text/plain": [
       "<Figure size 640x480 with 1 Axes>"
      ]
     },
     "metadata": {},
     "output_type": "display_data"
    }
   ],
   "source": [
    "# plot regression line on testing set\n",
    "\n",
    "plt.scatter(X_test, y_test, label = 'Testing Data')\n",
    "plt.plot(X_test, beta_0 + beta_1 * X_test, 'r', label = f'Regression Line: y = {beta_1}x + {beta_0}')\n",
    "plt.legend()\n",
    "plt.show()"
   ]
  },
  {
   "cell_type": "code",
   "execution_count": 12,
   "id": "9ccb0c38",
   "metadata": {},
   "outputs": [
    {
     "data": {
      "text/plain": [
       "0.797"
      ]
     },
     "execution_count": 12,
     "metadata": {},
     "output_type": "execute_result"
    }
   ],
   "source": [
    "# r-squared value\n",
    "\n",
    "y_test_pred = beta_0 + beta_1 * X_test\n",
    "rss = sum((y_test_pred - y_test) ** 2)\n",
    "tss = sum((y_test - np.mean(y_test)) ** 2)\n",
    "\n",
    "r2_test = 1 - (rss / tss)\n",
    "round(r2_test, 3)"
   ]
  },
  {
   "cell_type": "markdown",
   "id": "686abcc4",
   "metadata": {},
   "source": [
    "### Gradient descent approach\n",
    "\n",
    "- The MSE is given by\n",
    "$$J(\\theta) = \\frac{1}{m} \\sum_{i=1}^{m}(X.\\theta-y)^2$$\n",
    "\n",
    "- The gradient of MSE is given by\n",
    "$$J'(\\theta) = \\frac{2}{m} X^T.(X.\\theta - y)$$\n",
    "\n",
    "- The new vector is geven by\n",
    "$$\\theta_{next step}=\\theta-\\alpha*J'(\\theta)$$"
   ]
  },
  {
   "cell_type": "code",
   "execution_count": 84,
   "id": "545723e3",
   "metadata": {},
   "outputs": [],
   "source": [
    "# def gradient_descent(X, y, alpha = 0.01, iterations = 1000):\n",
    "#     m = len(X)\n",
    "#     X_b = np.c_[np.ones((m, 1)), X]\n",
    "#     theta = np.random.randn(2, 1)\n",
    "    \n",
    "#     for i in range(0, iterations):\n",
    "#         X_T = np.transpose(X_b)\n",
    "#         xx = np.dot(X_b, theta) - np.array(y).reshape(m, 1)\n",
    "#         grad = 2/m * np.dot(X_T, (xx))\n",
    "#         theta = theta - (alpha * grad)\n",
    "#         print(theta)\n",
    "        \n",
    "#     return theta"
   ]
  },
  {
   "cell_type": "code",
   "execution_count": 118,
   "id": "e2d7ce69",
   "metadata": {},
   "outputs": [],
   "source": [
    "def gradient_descent(X, y, learning_rate=0.05, n_iterations=1000):\n",
    "    m = len(X)\n",
    "    X_b = np.c_[np.ones((m, 1)), X]\n",
    "    w = np.random.randn(2, 1)\n",
    "\n",
    "    for iteration in range(n_iterations):\n",
    "        gradients = 2/m * X_b.T.dot(X_b.dot(w) - y)\n",
    "        w = w - learning_rate * gradients\n",
    "\n",
    "    return w"
   ]
  },
  {
   "cell_type": "code",
   "execution_count": 114,
   "id": "2a359aae",
   "metadata": {},
   "outputs": [],
   "source": [
    "X = np.reshape(X_train, (140, 1))\n",
    "y = np.reshape(y_train, (140, 1))"
   ]
  },
  {
   "cell_type": "code",
   "execution_count": 117,
   "id": "1887bede",
   "metadata": {},
   "outputs": [
    {
     "data": {
      "text/plain": [
       "array([[inf],\n",
       "       [inf]])"
      ]
     },
     "execution_count": 117,
     "metadata": {},
     "output_type": "execute_result"
    }
   ],
   "source": [
    "gradient_descent(X, y)"
   ]
  },
  {
   "cell_type": "code",
   "execution_count": 101,
   "id": "54b834e9",
   "metadata": {},
   "outputs": [],
   "source": [
    "X = 2 * np.random.rand(100, 1)\n",
    "y = 2 * X + 1 + np.random.randn(100, 1)"
   ]
  },
  {
   "cell_type": "code",
   "execution_count": 102,
   "id": "23007757",
   "metadata": {},
   "outputs": [
    {
     "data": {
      "text/plain": [
       "array([[0.67412244],\n",
       "       [2.21052963]])"
      ]
     },
     "execution_count": 102,
     "metadata": {},
     "output_type": "execute_result"
    }
   ],
   "source": [
    "gradient_descent(X, y)"
   ]
  },
  {
   "cell_type": "code",
   "execution_count": null,
   "id": "71c06fb0",
   "metadata": {},
   "outputs": [],
   "source": []
  }
 ],
 "metadata": {
  "kernelspec": {
   "display_name": "Python 3 (ipykernel)",
   "language": "python",
   "name": "python3"
  },
  "language_info": {
   "codemirror_mode": {
    "name": "ipython",
    "version": 3
   },
   "file_extension": ".py",
   "mimetype": "text/x-python",
   "name": "python",
   "nbconvert_exporter": "python",
   "pygments_lexer": "ipython3",
   "version": "3.11.5"
  }
 },
 "nbformat": 4,
 "nbformat_minor": 5
}
