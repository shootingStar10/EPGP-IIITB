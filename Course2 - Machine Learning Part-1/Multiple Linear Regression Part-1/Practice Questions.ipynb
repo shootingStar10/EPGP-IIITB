{
 "cells": [
  {
   "cell_type": "markdown",
   "id": "c737847d",
   "metadata": {},
   "source": [
    "**Q1)** When a model was built from a dataset with 101 samples and 10 predictor variables, the R-squared value was found to be 0.7. What will the value of the adjusted R-squared be for the same model?\n",
    "\n",
    "**Ans)** $$ Adjusted R^{2} =  1 - \\frac{(1-R^{2})(N-1)}{N-p-1}$$"
   ]
  },
  {
   "cell_type": "code",
   "execution_count": 2,
   "id": "b7583bc3",
   "metadata": {},
   "outputs": [
    {
     "data": {
      "text/plain": [
       "0.67"
      ]
     },
     "execution_count": 2,
     "metadata": {},
     "output_type": "execute_result"
    }
   ],
   "source": [
    "N = 101\n",
    "p = 10\n",
    "r2 = 0.7\n",
    "\n",
    "adj_r2 = 1 - ((1-r2)*(N-1) / (N-p-1))\n",
    "round(adj_r2, 2)"
   ]
  },
  {
   "cell_type": "code",
   "execution_count": null,
   "id": "d29d3ded",
   "metadata": {},
   "outputs": [],
   "source": []
  }
 ],
 "metadata": {
  "kernelspec": {
   "display_name": "Python 3 (ipykernel)",
   "language": "python",
   "name": "python3"
  },
  "language_info": {
   "codemirror_mode": {
    "name": "ipython",
    "version": 3
   },
   "file_extension": ".py",
   "mimetype": "text/x-python",
   "name": "python",
   "nbconvert_exporter": "python",
   "pygments_lexer": "ipython3",
   "version": "3.11.5"
  }
 },
 "nbformat": 4,
 "nbformat_minor": 5
}
