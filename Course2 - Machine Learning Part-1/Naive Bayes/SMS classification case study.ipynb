{
 "cells": [
  {
   "cell_type": "markdown",
   "id": "bf5305f6",
   "metadata": {},
   "source": [
    "# SMS classification case study\n",
    "\n",
    "Given SMS dataset, we have to classify the sms based on 'spam' or 'ham' category. To do this classification we will use 'Naive Bayes' classifier."
   ]
  },
  {
   "cell_type": "code",
   "execution_count": 1,
   "id": "39069aeb",
   "metadata": {},
   "outputs": [],
   "source": [
    "# import necessary libraries\n",
    "\n",
    "import numpy as np\n",
    "import pandas as pd\n",
    "\n",
    "import sklearn\n",
    "from sklearn.model_selection import train_test_split\n",
    "from sklearn.feature_extraction.text import CountVectorizer\n",
    "from sklearn.naive_bayes import MultinomialNB, BernoulliNB\n",
    "from sklearn.metrics import accuracy_score, confusion_matrix, precision_score, recall_score, roc_curve\n",
    "\n",
    "import matplotlib.pyplot as plt"
   ]
  },
  {
   "cell_type": "code",
   "execution_count": 2,
   "id": "7bb3c2cd",
   "metadata": {},
   "outputs": [
    {
     "data": {
      "text/html": [
       "<div>\n",
       "<style scoped>\n",
       "    .dataframe tbody tr th:only-of-type {\n",
       "        vertical-align: middle;\n",
       "    }\n",
       "\n",
       "    .dataframe tbody tr th {\n",
       "        vertical-align: top;\n",
       "    }\n",
       "\n",
       "    .dataframe thead th {\n",
       "        text-align: right;\n",
       "    }\n",
       "</style>\n",
       "<table border=\"1\" class=\"dataframe\">\n",
       "  <thead>\n",
       "    <tr style=\"text-align: right;\">\n",
       "      <th></th>\n",
       "      <th>Class</th>\n",
       "      <th>Document</th>\n",
       "    </tr>\n",
       "  </thead>\n",
       "  <tbody>\n",
       "    <tr>\n",
       "      <th>0</th>\n",
       "      <td>ham</td>\n",
       "      <td>Go until jurong point, crazy.. Available only ...</td>\n",
       "    </tr>\n",
       "    <tr>\n",
       "      <th>1</th>\n",
       "      <td>ham</td>\n",
       "      <td>Ok lar... Joking wif u oni...</td>\n",
       "    </tr>\n",
       "    <tr>\n",
       "      <th>2</th>\n",
       "      <td>spam</td>\n",
       "      <td>Free entry in 2 a wkly comp to win FA Cup fina...</td>\n",
       "    </tr>\n",
       "    <tr>\n",
       "      <th>3</th>\n",
       "      <td>ham</td>\n",
       "      <td>U dun say so early hor... U c already then say...</td>\n",
       "    </tr>\n",
       "    <tr>\n",
       "      <th>4</th>\n",
       "      <td>ham</td>\n",
       "      <td>Nah I don't think he goes to usf, he lives aro...</td>\n",
       "    </tr>\n",
       "  </tbody>\n",
       "</table>\n",
       "</div>"
      ],
      "text/plain": [
       "  Class                                           Document\n",
       "0   ham  Go until jurong point, crazy.. Available only ...\n",
       "1   ham                      Ok lar... Joking wif u oni...\n",
       "2  spam  Free entry in 2 a wkly comp to win FA Cup fina...\n",
       "3   ham  U dun say so early hor... U c already then say...\n",
       "4   ham  Nah I don't think he goes to usf, he lives aro..."
      ]
     },
     "execution_count": 2,
     "metadata": {},
     "output_type": "execute_result"
    }
   ],
   "source": [
    "# load the data\n",
    "\n",
    "data = pd.read_csv('smsspamcollection.csv', header = None)\n",
    "data.columns = ['Class', 'Document']\n",
    "data.head()"
   ]
  },
  {
   "cell_type": "code",
   "execution_count": 3,
   "id": "c9983360",
   "metadata": {},
   "outputs": [
    {
     "data": {
      "text/plain": [
       "(5572, 2)"
      ]
     },
     "execution_count": 3,
     "metadata": {},
     "output_type": "execute_result"
    }
   ],
   "source": [
    "data.shape"
   ]
  },
  {
   "cell_type": "code",
   "execution_count": 4,
   "id": "caf17131",
   "metadata": {},
   "outputs": [
    {
     "name": "stdout",
     "output_type": "stream",
     "text": [
      "<class 'pandas.core.frame.DataFrame'>\n",
      "RangeIndex: 5572 entries, 0 to 5571\n",
      "Data columns (total 2 columns):\n",
      " #   Column    Non-Null Count  Dtype \n",
      "---  ------    --------------  ----- \n",
      " 0   Class     5572 non-null   object\n",
      " 1   Document  5572 non-null   object\n",
      "dtypes: object(2)\n",
      "memory usage: 87.2+ KB\n"
     ]
    }
   ],
   "source": [
    "data.info()"
   ]
  },
  {
   "cell_type": "code",
   "execution_count": 5,
   "id": "02fb5cea",
   "metadata": {},
   "outputs": [
    {
     "data": {
      "text/plain": [
       "Class\n",
       "ham     4825\n",
       "spam     747\n",
       "Name: count, dtype: int64"
      ]
     },
     "execution_count": 5,
     "metadata": {},
     "output_type": "execute_result"
    }
   ],
   "source": [
    "# check spam-ham counts\n",
    "\n",
    "data['Class'].value_counts()"
   ]
  },
  {
   "cell_type": "code",
   "execution_count": 6,
   "id": "5e01ae9f",
   "metadata": {},
   "outputs": [
    {
     "data": {
      "text/plain": [
       "Class\n",
       "ham     86.593683\n",
       "spam    13.406317\n",
       "Name: count, dtype: float64"
      ]
     },
     "execution_count": 6,
     "metadata": {},
     "output_type": "execute_result"
    }
   ],
   "source": [
    "data['Class'].value_counts()*100 / data.shape[0]"
   ]
  },
  {
   "cell_type": "markdown",
   "id": "9204fc3a",
   "metadata": {},
   "source": [
    "There are 13.41% of spam class in the dataset, which can be fine in this classification. Spam % is important as business preference is to filter spam message from the set of messages."
   ]
  },
  {
   "cell_type": "code",
   "execution_count": 7,
   "id": "878f3a62",
   "metadata": {},
   "outputs": [
    {
     "data": {
      "text/html": [
       "<div>\n",
       "<style scoped>\n",
       "    .dataframe tbody tr th:only-of-type {\n",
       "        vertical-align: middle;\n",
       "    }\n",
       "\n",
       "    .dataframe tbody tr th {\n",
       "        vertical-align: top;\n",
       "    }\n",
       "\n",
       "    .dataframe thead th {\n",
       "        text-align: right;\n",
       "    }\n",
       "</style>\n",
       "<table border=\"1\" class=\"dataframe\">\n",
       "  <thead>\n",
       "    <tr style=\"text-align: right;\">\n",
       "      <th></th>\n",
       "      <th>Class</th>\n",
       "      <th>Document</th>\n",
       "    </tr>\n",
       "  </thead>\n",
       "  <tbody>\n",
       "    <tr>\n",
       "      <th>0</th>\n",
       "      <td>0</td>\n",
       "      <td>Go until jurong point, crazy.. Available only ...</td>\n",
       "    </tr>\n",
       "    <tr>\n",
       "      <th>1</th>\n",
       "      <td>0</td>\n",
       "      <td>Ok lar... Joking wif u oni...</td>\n",
       "    </tr>\n",
       "    <tr>\n",
       "      <th>2</th>\n",
       "      <td>1</td>\n",
       "      <td>Free entry in 2 a wkly comp to win FA Cup fina...</td>\n",
       "    </tr>\n",
       "    <tr>\n",
       "      <th>3</th>\n",
       "      <td>0</td>\n",
       "      <td>U dun say so early hor... U c already then say...</td>\n",
       "    </tr>\n",
       "    <tr>\n",
       "      <th>4</th>\n",
       "      <td>0</td>\n",
       "      <td>Nah I don't think he goes to usf, he lives aro...</td>\n",
       "    </tr>\n",
       "  </tbody>\n",
       "</table>\n",
       "</div>"
      ],
      "text/plain": [
       "   Class                                           Document\n",
       "0      0  Go until jurong point, crazy.. Available only ...\n",
       "1      0                      Ok lar... Joking wif u oni...\n",
       "2      1  Free entry in 2 a wkly comp to win FA Cup fina...\n",
       "3      0  U dun say so early hor... U c already then say...\n",
       "4      0  Nah I don't think he goes to usf, he lives aro..."
      ]
     },
     "execution_count": 7,
     "metadata": {},
     "output_type": "execute_result"
    }
   ],
   "source": [
    "# data pre-processing\n",
    "\n",
    "data['Class'] = data['Class'].map({'spam': 1, 'ham': 0})\n",
    "data.head()"
   ]
  },
  {
   "cell_type": "code",
   "execution_count": 8,
   "id": "6341e202",
   "metadata": {},
   "outputs": [],
   "source": [
    "# split train and test data\n",
    "\n",
    "train_data, test_data = train_test_split(data, train_size=0.7, test_size=0.3, random_state=100)"
   ]
  },
  {
   "cell_type": "code",
   "execution_count": 9,
   "id": "e3c2f965",
   "metadata": {},
   "outputs": [
    {
     "data": {
      "text/plain": [
       "(3900, 2)"
      ]
     },
     "execution_count": 9,
     "metadata": {},
     "output_type": "execute_result"
    }
   ],
   "source": [
    "train_data.shape"
   ]
  },
  {
   "cell_type": "code",
   "execution_count": 10,
   "id": "f1ed9103",
   "metadata": {},
   "outputs": [
    {
     "data": {
      "text/plain": [
       "(1672, 2)"
      ]
     },
     "execution_count": 10,
     "metadata": {},
     "output_type": "execute_result"
    }
   ],
   "source": [
    "test_data.shape"
   ]
  },
  {
   "cell_type": "code",
   "execution_count": 11,
   "id": "7623d619",
   "metadata": {},
   "outputs": [],
   "source": [
    "# create X_train and y_train\n",
    "\n",
    "X_train = np.array(train_data['Document'])\n",
    "y_train = np.array(train_data['Class'])"
   ]
  },
  {
   "cell_type": "code",
   "execution_count": 12,
   "id": "e9a9197e",
   "metadata": {},
   "outputs": [],
   "source": [
    "# create X_test and y_test\n",
    "\n",
    "X_test = np.array(test_data['Document'])\n",
    "y_test = np.array(test_data['Class'])"
   ]
  },
  {
   "cell_type": "code",
   "execution_count": 13,
   "id": "de3b4eb0",
   "metadata": {},
   "outputs": [],
   "source": [
    "# tokenize the X_train (create word of bag)\n",
    "\n",
    "cv = CountVectorizer(stop_words='english')\n",
    "cv.fit(X_train)\n",
    "X_train_transform = cv.transform(X_train)"
   ]
  },
  {
   "cell_type": "code",
   "execution_count": 14,
   "id": "082ff5a4",
   "metadata": {
    "scrolled": true
   },
   "outputs": [],
   "source": [
    "# build multinomial naive bayes model\n",
    "\n",
    "# mnb = MultinomialNB()\n",
    "# mnb.fit(X_train_transform, y_train)\n",
    "\n",
    "# y_train_pred = mnb.predict(X_train_transform)\n",
    "# y_train_pred_prob = mnb.predict_proba(X_train_transform)"
   ]
  },
  {
   "cell_type": "code",
   "execution_count": 15,
   "id": "b39c4c00",
   "metadata": {},
   "outputs": [],
   "source": [
    "# build bernoulli naive bayes model\n",
    "\n",
    "bnb = BernoulliNB()\n",
    "bnb.fit(X_train_transform, y_train)\n",
    "\n",
    "y_train_pred = bnb.predict(X_train_transform)\n",
    "y_train_pred_prob = bnb.predict_proba(X_train_transform)"
   ]
  },
  {
   "cell_type": "markdown",
   "id": "fb0afb11",
   "metadata": {},
   "source": [
    "### Model evaluation on train set"
   ]
  },
  {
   "cell_type": "code",
   "execution_count": 16,
   "id": "37bd91c3",
   "metadata": {},
   "outputs": [
    {
     "data": {
      "text/plain": [
       "0.9848717948717949"
      ]
     },
     "execution_count": 16,
     "metadata": {},
     "output_type": "execute_result"
    }
   ],
   "source": [
    "# compute model accuracy on train set\n",
    "\n",
    "accuracy_score(y_train, y_train_pred)"
   ]
  },
  {
   "cell_type": "code",
   "execution_count": 17,
   "id": "a60d86d8",
   "metadata": {},
   "outputs": [
    {
     "data": {
      "text/plain": [
       "array([[3375,    2],\n",
       "       [  57,  466]], dtype=int64)"
      ]
     },
     "execution_count": 17,
     "metadata": {},
     "output_type": "execute_result"
    }
   ],
   "source": [
    "# compute confusion metrics\n",
    "\n",
    "confusion = confusion_matrix(y_train, y_train_pred)\n",
    "confusion"
   ]
  },
  {
   "cell_type": "code",
   "execution_count": 18,
   "id": "a780959d",
   "metadata": {},
   "outputs": [],
   "source": [
    "TN = confusion[0][0]\n",
    "FP = confusion[0][1]\n",
    "FN = confusion[1][0]\n",
    "TP = confusion[1][1]"
   ]
  },
  {
   "cell_type": "code",
   "execution_count": 19,
   "id": "373ded97",
   "metadata": {},
   "outputs": [],
   "source": [
    "# compute senstivity and specificity on trained set\n",
    "\n",
    "sensitivity = TP / (TP+FN)\n",
    "specificity = TN / (TN+FP)"
   ]
  },
  {
   "cell_type": "code",
   "execution_count": 20,
   "id": "2969fab7",
   "metadata": {},
   "outputs": [
    {
     "data": {
      "text/plain": [
       "0.8910133843212237"
      ]
     },
     "execution_count": 20,
     "metadata": {},
     "output_type": "execute_result"
    }
   ],
   "source": [
    "sensitivity"
   ]
  },
  {
   "cell_type": "code",
   "execution_count": 21,
   "id": "e0c31e1b",
   "metadata": {},
   "outputs": [
    {
     "data": {
      "text/plain": [
       "0.9994077583654131"
      ]
     },
     "execution_count": 21,
     "metadata": {},
     "output_type": "execute_result"
    }
   ],
   "source": [
    "specificity"
   ]
  },
  {
   "cell_type": "code",
   "execution_count": 22,
   "id": "15143c8c",
   "metadata": {},
   "outputs": [
    {
     "data": {
      "text/plain": [
       "0.9957264957264957"
      ]
     },
     "execution_count": 22,
     "metadata": {},
     "output_type": "execute_result"
    }
   ],
   "source": [
    "precision = TP / (TP+FP)\n",
    "precision"
   ]
  },
  {
   "cell_type": "code",
   "execution_count": 23,
   "id": "8c7b0319",
   "metadata": {},
   "outputs": [
    {
     "data": {
      "text/plain": [
       "0.9957264957264957"
      ]
     },
     "execution_count": 23,
     "metadata": {},
     "output_type": "execute_result"
    }
   ],
   "source": [
    "# compute precesion\n",
    "\n",
    "precision_score(y_train, y_train_pred)"
   ]
  },
  {
   "cell_type": "code",
   "execution_count": 24,
   "id": "d86a8d0b",
   "metadata": {},
   "outputs": [
    {
     "data": {
      "text/plain": [
       "0.8910133843212237"
      ]
     },
     "execution_count": 24,
     "metadata": {},
     "output_type": "execute_result"
    }
   ],
   "source": [
    "# compute recall\n",
    "\n",
    "recall_score(y_train, y_train_pred)"
   ]
  },
  {
   "cell_type": "code",
   "execution_count": 25,
   "id": "53a68b2c",
   "metadata": {},
   "outputs": [],
   "source": [
    "# plot ROC curve for train set\n",
    "\n",
    "fpr, tpr, threshold = roc_curve(y_train, y_train_pred_prob[:,1])"
   ]
  },
  {
   "cell_type": "code",
   "execution_count": 26,
   "id": "54ab68d5",
   "metadata": {},
   "outputs": [
    {
     "data": {
      "image/png": "[encoded data removed]",
      "text/plain": [
       "<Figure size 640x480 with 1 Axes>"
      ]
     },
     "metadata": {},
     "output_type": "display_data"
    }
   ],
   "source": [
    "plt.plot(fpr, tpr)\n",
    "plt.title('ROC')\n",
    "plt.xlabel('False positive rate')\n",
    "plt.ylabel('True positive rate')\n",
    "plt.show()"
   ]
  },
  {
   "cell_type": "code",
   "execution_count": 27,
   "id": "48a66907",
   "metadata": {},
   "outputs": [
    {
     "data": {
      "text/html": [
       "<div>\n",
       "<style scoped>\n",
       "    .dataframe tbody tr th:only-of-type {\n",
       "        vertical-align: middle;\n",
       "    }\n",
       "\n",
       "    .dataframe tbody tr th {\n",
       "        vertical-align: top;\n",
       "    }\n",
       "\n",
       "    .dataframe thead th {\n",
       "        text-align: right;\n",
       "    }\n",
       "</style>\n",
       "<table border=\"1\" class=\"dataframe\">\n",
       "  <thead>\n",
       "    <tr style=\"text-align: right;\">\n",
       "      <th></th>\n",
       "      <th>fpr</th>\n",
       "      <th>tpr</th>\n",
       "      <th>threshold</th>\n",
       "    </tr>\n",
       "  </thead>\n",
       "  <tbody>\n",
       "    <tr>\n",
       "      <th>0</th>\n",
       "      <td>0.000000</td>\n",
       "      <td>0.000000</td>\n",
       "      <td>inf</td>\n",
       "    </tr>\n",
       "    <tr>\n",
       "      <th>1</th>\n",
       "      <td>0.000000</td>\n",
       "      <td>0.328872</td>\n",
       "      <td>1.000000e+00</td>\n",
       "    </tr>\n",
       "    <tr>\n",
       "      <th>2</th>\n",
       "      <td>0.000000</td>\n",
       "      <td>0.336520</td>\n",
       "      <td>1.000000e+00</td>\n",
       "    </tr>\n",
       "    <tr>\n",
       "      <th>3</th>\n",
       "      <td>0.000000</td>\n",
       "      <td>0.340344</td>\n",
       "      <td>1.000000e+00</td>\n",
       "    </tr>\n",
       "    <tr>\n",
       "      <th>4</th>\n",
       "      <td>0.000000</td>\n",
       "      <td>0.344168</td>\n",
       "      <td>1.000000e+00</td>\n",
       "    </tr>\n",
       "    <tr>\n",
       "      <th>...</th>\n",
       "      <td>...</td>\n",
       "      <td>...</td>\n",
       "      <td>...</td>\n",
       "    </tr>\n",
       "    <tr>\n",
       "      <th>416</th>\n",
       "      <td>0.978383</td>\n",
       "      <td>1.000000</td>\n",
       "      <td>2.312931e-14</td>\n",
       "    </tr>\n",
       "    <tr>\n",
       "      <th>417</th>\n",
       "      <td>0.979272</td>\n",
       "      <td>1.000000</td>\n",
       "      <td>2.196502e-14</td>\n",
       "    </tr>\n",
       "    <tr>\n",
       "      <th>418</th>\n",
       "      <td>0.990228</td>\n",
       "      <td>1.000000</td>\n",
       "      <td>6.405754e-15</td>\n",
       "    </tr>\n",
       "    <tr>\n",
       "      <th>419</th>\n",
       "      <td>0.991116</td>\n",
       "      <td>1.000000</td>\n",
       "      <td>6.340572e-15</td>\n",
       "    </tr>\n",
       "    <tr>\n",
       "      <th>420</th>\n",
       "      <td>1.000000</td>\n",
       "      <td>1.000000</td>\n",
       "      <td>1.899302e-17</td>\n",
       "    </tr>\n",
       "  </tbody>\n",
       "</table>\n",
       "<p>421 rows × 3 columns</p>\n",
       "</div>"
      ],
      "text/plain": [
       "          fpr       tpr     threshold\n",
       "0    0.000000  0.000000           inf\n",
       "1    0.000000  0.328872  1.000000e+00\n",
       "2    0.000000  0.336520  1.000000e+00\n",
       "3    0.000000  0.340344  1.000000e+00\n",
       "4    0.000000  0.344168  1.000000e+00\n",
       "..        ...       ...           ...\n",
       "416  0.978383  1.000000  2.312931e-14\n",
       "417  0.979272  1.000000  2.196502e-14\n",
       "418  0.990228  1.000000  6.405754e-15\n",
       "419  0.991116  1.000000  6.340572e-15\n",
       "420  1.000000  1.000000  1.899302e-17\n",
       "\n",
       "[421 rows x 3 columns]"
      ]
     },
     "execution_count": 27,
     "metadata": {},
     "output_type": "execute_result"
    }
   ],
   "source": [
    "pd.DataFrame({'fpr': fpr, 'tpr': tpr, 'threshold': threshold})"
   ]
  },
  {
   "cell_type": "markdown",
   "id": "04babcf1",
   "metadata": {},
   "source": [
    "### Model evaluation on test set"
   ]
  },
  {
   "cell_type": "code",
   "execution_count": 28,
   "id": "972f90c7",
   "metadata": {},
   "outputs": [],
   "source": [
    "# evaluation on test data\n",
    "\n",
    "X_test_transformed = cv.transform(X_test)"
   ]
  },
  {
   "cell_type": "code",
   "execution_count": 29,
   "id": "70c9ed5a",
   "metadata": {},
   "outputs": [],
   "source": [
    "# prediction on test set\n",
    "\n",
    "# y_test_pred = mnb.predict(X_test_transformed)\n",
    "# y_test_pred_prob = mnb.predict_proba(X_test_transformed)"
   ]
  },
  {
   "cell_type": "code",
   "execution_count": 30,
   "id": "81611342",
   "metadata": {},
   "outputs": [],
   "source": [
    "# prediction on test set\n",
    "\n",
    "y_test_pred = bnb.predict(X_test_transformed)\n",
    "y_test_pred_prob = bnb.predict_proba(X_test_transformed)"
   ]
  },
  {
   "cell_type": "code",
   "execution_count": 31,
   "id": "844f1881",
   "metadata": {},
   "outputs": [
    {
     "data": {
      "text/plain": [
       "0.9736842105263158"
      ]
     },
     "execution_count": 31,
     "metadata": {},
     "output_type": "execute_result"
    }
   ],
   "source": [
    "# compute accuracy on test set\n",
    "\n",
    "accuracy_score(y_test, y_test_pred)"
   ]
  },
  {
   "cell_type": "code",
   "execution_count": 32,
   "id": "850a9131",
   "metadata": {},
   "outputs": [
    {
     "data": {
      "text/plain": [
       "array([[1447,    1],\n",
       "       [  43,  181]], dtype=int64)"
      ]
     },
     "execution_count": 32,
     "metadata": {},
     "output_type": "execute_result"
    }
   ],
   "source": [
    "# confusion matrix\n",
    "\n",
    "confusion = confusion_matrix(y_test, y_test_pred)\n",
    "confusion"
   ]
  },
  {
   "cell_type": "code",
   "execution_count": 33,
   "id": "a8ecbc77",
   "metadata": {},
   "outputs": [],
   "source": [
    "# compute sensitivity and specificity\n",
    "\n",
    "TN = confusion[0][0]\n",
    "FP = confusion[0][1]\n",
    "FN = confusion[1][0]\n",
    "TP = confusion[1][1]\n",
    "\n",
    "sensitivity = TP / (TP+FN)\n",
    "specificity = TN / (TN+FP)"
   ]
  },
  {
   "cell_type": "code",
   "execution_count": 34,
   "id": "c83592b2",
   "metadata": {},
   "outputs": [
    {
     "data": {
      "text/plain": [
       "0.8080357142857143"
      ]
     },
     "execution_count": 34,
     "metadata": {},
     "output_type": "execute_result"
    }
   ],
   "source": [
    "sensitivity"
   ]
  },
  {
   "cell_type": "code",
   "execution_count": 35,
   "id": "8eb68cf6",
   "metadata": {},
   "outputs": [
    {
     "data": {
      "text/plain": [
       "0.9993093922651933"
      ]
     },
     "execution_count": 35,
     "metadata": {},
     "output_type": "execute_result"
    }
   ],
   "source": [
    "specificity"
   ]
  },
  {
   "cell_type": "code",
   "execution_count": 36,
   "id": "9f8f2676",
   "metadata": {},
   "outputs": [
    {
     "data": {
      "text/plain": [
       "0.9945054945054945"
      ]
     },
     "execution_count": 36,
     "metadata": {},
     "output_type": "execute_result"
    }
   ],
   "source": [
    "precision_score(y_test, y_test_pred)"
   ]
  },
  {
   "cell_type": "code",
   "execution_count": 37,
   "id": "54a8f684",
   "metadata": {},
   "outputs": [
    {
     "data": {
      "text/plain": [
       "0.8080357142857143"
      ]
     },
     "execution_count": 37,
     "metadata": {},
     "output_type": "execute_result"
    }
   ],
   "source": [
    "recall_score(y_test, y_test_pred)"
   ]
  },
  {
   "cell_type": "code",
   "execution_count": 38,
   "id": "757aeae6",
   "metadata": {},
   "outputs": [],
   "source": [
    "# plot roc curve\n",
    "\n",
    "fpr, tpr, threshold = roc_curve(y_test, y_test_pred_prob[:,1])"
   ]
  },
  {
   "cell_type": "code",
   "execution_count": 39,
   "id": "b56f21ca",
   "metadata": {},
   "outputs": [
    {
     "data": {
      "text/html": [
       "<div>\n",
       "<style scoped>\n",
       "    .dataframe tbody tr th:only-of-type {\n",
       "        vertical-align: middle;\n",
       "    }\n",
       "\n",
       "    .dataframe tbody tr th {\n",
       "        vertical-align: top;\n",
       "    }\n",
       "\n",
       "    .dataframe thead th {\n",
       "        text-align: right;\n",
       "    }\n",
       "</style>\n",
       "<table border=\"1\" class=\"dataframe\">\n",
       "  <thead>\n",
       "    <tr style=\"text-align: right;\">\n",
       "      <th></th>\n",
       "      <th>fpr</th>\n",
       "      <th>tpr</th>\n",
       "      <th>threshold</th>\n",
       "    </tr>\n",
       "  </thead>\n",
       "  <tbody>\n",
       "    <tr>\n",
       "      <th>0</th>\n",
       "      <td>0.000000</td>\n",
       "      <td>0.000000</td>\n",
       "      <td>inf</td>\n",
       "    </tr>\n",
       "    <tr>\n",
       "      <th>1</th>\n",
       "      <td>0.000000</td>\n",
       "      <td>0.241071</td>\n",
       "      <td>1.000000e+00</td>\n",
       "    </tr>\n",
       "    <tr>\n",
       "      <th>2</th>\n",
       "      <td>0.000000</td>\n",
       "      <td>0.272321</td>\n",
       "      <td>1.000000e+00</td>\n",
       "    </tr>\n",
       "    <tr>\n",
       "      <th>3</th>\n",
       "      <td>0.000000</td>\n",
       "      <td>0.281250</td>\n",
       "      <td>1.000000e+00</td>\n",
       "    </tr>\n",
       "    <tr>\n",
       "      <th>4</th>\n",
       "      <td>0.000000</td>\n",
       "      <td>0.312500</td>\n",
       "      <td>1.000000e+00</td>\n",
       "    </tr>\n",
       "    <tr>\n",
       "      <th>...</th>\n",
       "      <td>...</td>\n",
       "      <td>...</td>\n",
       "      <td>...</td>\n",
       "    </tr>\n",
       "    <tr>\n",
       "      <th>177</th>\n",
       "      <td>0.900552</td>\n",
       "      <td>1.000000</td>\n",
       "      <td>1.111432e-12</td>\n",
       "    </tr>\n",
       "    <tr>\n",
       "      <th>178</th>\n",
       "      <td>0.906077</td>\n",
       "      <td>1.000000</td>\n",
       "      <td>1.069267e-12</td>\n",
       "    </tr>\n",
       "    <tr>\n",
       "      <th>179</th>\n",
       "      <td>0.930939</td>\n",
       "      <td>1.000000</td>\n",
       "      <td>4.996374e-13</td>\n",
       "    </tr>\n",
       "    <tr>\n",
       "      <th>180</th>\n",
       "      <td>0.932320</td>\n",
       "      <td>1.000000</td>\n",
       "      <td>4.968192e-13</td>\n",
       "    </tr>\n",
       "    <tr>\n",
       "      <th>181</th>\n",
       "      <td>1.000000</td>\n",
       "      <td>1.000000</td>\n",
       "      <td>1.639878e-20</td>\n",
       "    </tr>\n",
       "  </tbody>\n",
       "</table>\n",
       "<p>182 rows × 3 columns</p>\n",
       "</div>"
      ],
      "text/plain": [
       "          fpr       tpr     threshold\n",
       "0    0.000000  0.000000           inf\n",
       "1    0.000000  0.241071  1.000000e+00\n",
       "2    0.000000  0.272321  1.000000e+00\n",
       "3    0.000000  0.281250  1.000000e+00\n",
       "4    0.000000  0.312500  1.000000e+00\n",
       "..        ...       ...           ...\n",
       "177  0.900552  1.000000  1.111432e-12\n",
       "178  0.906077  1.000000  1.069267e-12\n",
       "179  0.930939  1.000000  4.996374e-13\n",
       "180  0.932320  1.000000  4.968192e-13\n",
       "181  1.000000  1.000000  1.639878e-20\n",
       "\n",
       "[182 rows x 3 columns]"
      ]
     },
     "execution_count": 39,
     "metadata": {},
     "output_type": "execute_result"
    }
   ],
   "source": [
    "pd.DataFrame({'fpr': fpr, 'tpr': tpr, 'threshold': threshold})"
   ]
  },
  {
   "cell_type": "code",
   "execution_count": 40,
   "id": "529ed581",
   "metadata": {},
   "outputs": [
    {
     "data": {
      "image/png": "[encoded data removed]",
      "text/plain": [
       "<Figure size 640x480 with 1 Axes>"
      ]
     },
     "metadata": {},
     "output_type": "display_data"
    }
   ],
   "source": [
    "plt.plot(fpr, tpr)\n",
    "plt.title('ROC')\n",
    "plt.xlabel('False positive rate')\n",
    "plt.ylabel('True positive rate')\n",
    "plt.show()"
   ]
  },
  {
   "cell_type": "markdown",
   "id": "f65ceada",
   "metadata": {},
   "source": [
    "Both Bernoulli and Multinomial NB classifies the spam-ham classification correctly. The sensitivity of Multinomial's NB is higher than Bernoulli's NB, so if business is more concern about the sensitivity then we will go with Multinomial's NB."
   ]
  }
 ],
 "metadata": {
  "kernelspec": {
   "display_name": "Python 3 (ipykernel)",
   "language": "python",
   "name": "python3"
  },
  "language_info": {
   "codemirror_mode": {
    "name": "ipython",
    "version": 3
   },
   "file_extension": ".py",
   "mimetype": "text/x-python",
   "name": "python",
   "nbconvert_exporter": "python",
   "pygments_lexer": "ipython3",
   "version": "3.11.5"
  }
 },
 "nbformat": 4,
 "nbformat_minor": 5
}
