{
 "cells": [
  {
   "cell_type": "markdown",
   "id": "ccdd0944",
   "metadata": {},
   "source": [
    "# Multinomial and Bernoulli Naive Bayes\n",
    "\n",
    "For understanding Multinomial and Bernoulli Naive Bayes, we will start with a small example and understand the end to end process. In another notebook, we will build a full-fledged email spam classifier.\n",
    "\n",
    "To start with, let's take a few sentences and classify them in two different classes - education or cinema. Each sentence will represent one document. In real-world cases, a document be any piece of text such as an email, a news article, a book review, a tweet etc. The analysis and the algorithm involved doesn’t depend on the type of document we use.\n",
    "\n",
    "The notebook is divided into the following sections:\n",
    "\n",
    "- Importing and preprocessing data\n",
    "- Building the model: Multinomial Naive Bayes\n",
    "- Building the model: Bernoulli Naive Bayes"
   ]
  },
  {
   "cell_type": "code",
   "execution_count": 1,
   "id": "47f087a2",
   "metadata": {},
   "outputs": [],
   "source": [
    "# importing necessary libraries\n",
    "\n",
    "import numpy as np\n",
    "import pandas as pd\n",
    "\n",
    "import sklearn\n",
    "from sklearn.naive_bayes import MultinomialNB, BernoulliNB\n",
    "from sklearn.feature_extraction.text import CountVectorizer"
   ]
  },
  {
   "cell_type": "markdown",
   "id": "123483ef",
   "metadata": {},
   "source": [
    "### Importing and preprocessing data"
   ]
  },
  {
   "cell_type": "code",
   "execution_count": 2,
   "id": "505ae3eb",
   "metadata": {},
   "outputs": [
    {
     "data": {
      "text/html": [
       "<div>\n",
       "<style scoped>\n",
       "    .dataframe tbody tr th:only-of-type {\n",
       "        vertical-align: middle;\n",
       "    }\n",
       "\n",
       "    .dataframe tbody tr th {\n",
       "        vertical-align: top;\n",
       "    }\n",
       "\n",
       "    .dataframe thead th {\n",
       "        text-align: right;\n",
       "    }\n",
       "</style>\n",
       "<table border=\"1\" class=\"dataframe\">\n",
       "  <thead>\n",
       "    <tr style=\"text-align: right;\">\n",
       "      <th></th>\n",
       "      <th>Document</th>\n",
       "      <th>Class</th>\n",
       "    </tr>\n",
       "  </thead>\n",
       "  <tbody>\n",
       "    <tr>\n",
       "      <th>0</th>\n",
       "      <td>Upgrad is a great educational institution.</td>\n",
       "      <td>education</td>\n",
       "    </tr>\n",
       "    <tr>\n",
       "      <th>1</th>\n",
       "      <td>Educational greatness depends on ethics</td>\n",
       "      <td>education</td>\n",
       "    </tr>\n",
       "    <tr>\n",
       "      <th>2</th>\n",
       "      <td>A story of great ethics and educational greatness</td>\n",
       "      <td>education</td>\n",
       "    </tr>\n",
       "    <tr>\n",
       "      <th>3</th>\n",
       "      <td>Sholey is a great cinema</td>\n",
       "      <td>cinema</td>\n",
       "    </tr>\n",
       "    <tr>\n",
       "      <th>4</th>\n",
       "      <td>good movie depends on good story</td>\n",
       "      <td>cinema</td>\n",
       "    </tr>\n",
       "  </tbody>\n",
       "</table>\n",
       "</div>"
      ],
      "text/plain": [
       "                                            Document      Class\n",
       "0         Upgrad is a great educational institution.  education\n",
       "1            Educational greatness depends on ethics  education\n",
       "2  A story of great ethics and educational greatness  education\n",
       "3                           Sholey is a great cinema     cinema\n",
       "4                   good movie depends on good story     cinema"
      ]
     },
     "execution_count": 2,
     "metadata": {},
     "output_type": "execute_result"
    }
   ],
   "source": [
    "# import train data\n",
    "\n",
    "train_data = pd.read_csv('example_train.csv')\n",
    "train_data.head()"
   ]
  },
  {
   "cell_type": "code",
   "execution_count": 3,
   "id": "e66a4de5",
   "metadata": {},
   "outputs": [],
   "source": [
    "# Map target variable into classes\n",
    "\n",
    "train_data['Class'] = train_data['Class'].map({'cinema': 0, 'education': 1})"
   ]
  },
  {
   "cell_type": "code",
   "execution_count": 4,
   "id": "a06713ee",
   "metadata": {},
   "outputs": [
    {
     "data": {
      "text/html": [
       "<div>\n",
       "<style scoped>\n",
       "    .dataframe tbody tr th:only-of-type {\n",
       "        vertical-align: middle;\n",
       "    }\n",
       "\n",
       "    .dataframe tbody tr th {\n",
       "        vertical-align: top;\n",
       "    }\n",
       "\n",
       "    .dataframe thead th {\n",
       "        text-align: right;\n",
       "    }\n",
       "</style>\n",
       "<table border=\"1\" class=\"dataframe\">\n",
       "  <thead>\n",
       "    <tr style=\"text-align: right;\">\n",
       "      <th></th>\n",
       "      <th>Document</th>\n",
       "      <th>Class</th>\n",
       "    </tr>\n",
       "  </thead>\n",
       "  <tbody>\n",
       "    <tr>\n",
       "      <th>0</th>\n",
       "      <td>Upgrad is a great educational institution.</td>\n",
       "      <td>1</td>\n",
       "    </tr>\n",
       "    <tr>\n",
       "      <th>1</th>\n",
       "      <td>Educational greatness depends on ethics</td>\n",
       "      <td>1</td>\n",
       "    </tr>\n",
       "    <tr>\n",
       "      <th>2</th>\n",
       "      <td>A story of great ethics and educational greatness</td>\n",
       "      <td>1</td>\n",
       "    </tr>\n",
       "    <tr>\n",
       "      <th>3</th>\n",
       "      <td>Sholey is a great cinema</td>\n",
       "      <td>0</td>\n",
       "    </tr>\n",
       "    <tr>\n",
       "      <th>4</th>\n",
       "      <td>good movie depends on good story</td>\n",
       "      <td>0</td>\n",
       "    </tr>\n",
       "  </tbody>\n",
       "</table>\n",
       "</div>"
      ],
      "text/plain": [
       "                                            Document  Class\n",
       "0         Upgrad is a great educational institution.      1\n",
       "1            Educational greatness depends on ethics      1\n",
       "2  A story of great ethics and educational greatness      1\n",
       "3                           Sholey is a great cinema      0\n",
       "4                   good movie depends on good story      0"
      ]
     },
     "execution_count": 4,
     "metadata": {},
     "output_type": "execute_result"
    }
   ],
   "source": [
    "train_data.head()"
   ]
  },
  {
   "cell_type": "code",
   "execution_count": 5,
   "id": "f58d9002",
   "metadata": {},
   "outputs": [],
   "source": [
    "# change X_train and y_train to numpy array as we are going to do text classification\n",
    "\n",
    "X_train = np.array(train_data['Document'])\n",
    "y_train = np.array(train_data['Class'])"
   ]
  },
  {
   "cell_type": "code",
   "execution_count": 6,
   "id": "b3b729dc",
   "metadata": {},
   "outputs": [
    {
     "data": {
      "text/plain": [
       "(array(['Upgrad is a great educational institution.',\n",
       "        'Educational greatness depends on ethics',\n",
       "        'A story of great ethics and educational greatness',\n",
       "        'Sholey is a great cinema', 'good movie depends on good story'],\n",
       "       dtype=object),\n",
       " array([1, 1, 1, 0, 0], dtype=int64))"
      ]
     },
     "execution_count": 6,
     "metadata": {},
     "output_type": "execute_result"
    }
   ],
   "source": [
    "X_train, y_train"
   ]
  },
  {
   "cell_type": "code",
   "execution_count": 7,
   "id": "107db2c4",
   "metadata": {},
   "outputs": [],
   "source": [
    "# convert X_train_np into tokens\n",
    "\n",
    "cv = CountVectorizer(stop_words='english')\n",
    "X_train_tok = cv.fit(X_train).vocabulary_"
   ]
  },
  {
   "cell_type": "code",
   "execution_count": 8,
   "id": "b79a07b7",
   "metadata": {},
   "outputs": [
    {
     "data": {
      "text/plain": [
       "{'upgrad': 11,\n",
       " 'great': 5,\n",
       " 'educational': 2,\n",
       " 'institution': 7,\n",
       " 'greatness': 6,\n",
       " 'depends': 1,\n",
       " 'ethics': 3,\n",
       " 'story': 10,\n",
       " 'sholey': 9,\n",
       " 'cinema': 0,\n",
       " 'good': 4,\n",
       " 'movie': 8}"
      ]
     },
     "execution_count": 8,
     "metadata": {},
     "output_type": "execute_result"
    }
   ],
   "source": [
    "X_train_tok"
   ]
  },
  {
   "cell_type": "code",
   "execution_count": 9,
   "id": "01435508",
   "metadata": {},
   "outputs": [
    {
     "name": "stdout",
     "output_type": "stream",
     "text": [
      "  (0, 2)\t1\n",
      "  (0, 5)\t1\n",
      "  (0, 7)\t1\n",
      "  (0, 11)\t1\n",
      "  (1, 1)\t1\n",
      "  (1, 2)\t1\n",
      "  (1, 3)\t1\n",
      "  (1, 6)\t1\n",
      "  (2, 2)\t1\n",
      "  (2, 3)\t1\n",
      "  (2, 5)\t1\n",
      "  (2, 6)\t1\n",
      "  (2, 10)\t1\n",
      "  (3, 0)\t1\n",
      "  (3, 5)\t1\n",
      "  (3, 9)\t1\n",
      "  (4, 1)\t1\n",
      "  (4, 4)\t2\n",
      "  (4, 8)\t1\n",
      "  (4, 10)\t1\n"
     ]
    }
   ],
   "source": [
    "X_train = cv.transform(X_train)\n",
    "print(X_train)"
   ]
  },
  {
   "cell_type": "markdown",
   "id": "cff63855",
   "metadata": {},
   "source": [
    "### Preparing test data"
   ]
  },
  {
   "cell_type": "code",
   "execution_count": 10,
   "id": "331ec54c",
   "metadata": {},
   "outputs": [
    {
     "data": {
      "text/html": [
       "<div>\n",
       "<style scoped>\n",
       "    .dataframe tbody tr th:only-of-type {\n",
       "        vertical-align: middle;\n",
       "    }\n",
       "\n",
       "    .dataframe tbody tr th {\n",
       "        vertical-align: top;\n",
       "    }\n",
       "\n",
       "    .dataframe thead th {\n",
       "        text-align: right;\n",
       "    }\n",
       "</style>\n",
       "<table border=\"1\" class=\"dataframe\">\n",
       "  <thead>\n",
       "    <tr style=\"text-align: right;\">\n",
       "      <th></th>\n",
       "      <th>Document</th>\n",
       "      <th>Class</th>\n",
       "    </tr>\n",
       "  </thead>\n",
       "  <tbody>\n",
       "    <tr>\n",
       "      <th>0</th>\n",
       "      <td>very good educational institution</td>\n",
       "      <td>education</td>\n",
       "    </tr>\n",
       "  </tbody>\n",
       "</table>\n",
       "</div>"
      ],
      "text/plain": [
       "                            Document      Class\n",
       "0  very good educational institution  education"
      ]
     },
     "execution_count": 10,
     "metadata": {},
     "output_type": "execute_result"
    }
   ],
   "source": [
    "test_data = pd.read_csv('example_test.csv')\n",
    "test_data.head()"
   ]
  },
  {
   "cell_type": "code",
   "execution_count": 11,
   "id": "9393f8db",
   "metadata": {},
   "outputs": [],
   "source": [
    "# map target variables with int classes\n",
    "\n",
    "test_data['Class'] = test_data['Class'].map({'cinema': 0, 'education': 1})"
   ]
  },
  {
   "cell_type": "code",
   "execution_count": 12,
   "id": "2abf8051",
   "metadata": {},
   "outputs": [
    {
     "data": {
      "text/html": [
       "<div>\n",
       "<style scoped>\n",
       "    .dataframe tbody tr th:only-of-type {\n",
       "        vertical-align: middle;\n",
       "    }\n",
       "\n",
       "    .dataframe tbody tr th {\n",
       "        vertical-align: top;\n",
       "    }\n",
       "\n",
       "    .dataframe thead th {\n",
       "        text-align: right;\n",
       "    }\n",
       "</style>\n",
       "<table border=\"1\" class=\"dataframe\">\n",
       "  <thead>\n",
       "    <tr style=\"text-align: right;\">\n",
       "      <th></th>\n",
       "      <th>Document</th>\n",
       "      <th>Class</th>\n",
       "    </tr>\n",
       "  </thead>\n",
       "  <tbody>\n",
       "    <tr>\n",
       "      <th>0</th>\n",
       "      <td>very good educational institution</td>\n",
       "      <td>1</td>\n",
       "    </tr>\n",
       "  </tbody>\n",
       "</table>\n",
       "</div>"
      ],
      "text/plain": [
       "                            Document  Class\n",
       "0  very good educational institution      1"
      ]
     },
     "execution_count": 12,
     "metadata": {},
     "output_type": "execute_result"
    }
   ],
   "source": [
    "test_data.head()"
   ]
  },
  {
   "cell_type": "code",
   "execution_count": 13,
   "id": "48a3ddcc",
   "metadata": {},
   "outputs": [],
   "source": [
    "# compute X_test and y_test\n",
    "\n",
    "X_test = np.array(test_data['Document'])\n",
    "y_test = np.array(test_data['Class'])"
   ]
  },
  {
   "cell_type": "code",
   "execution_count": 14,
   "id": "8d63603d",
   "metadata": {},
   "outputs": [
    {
     "data": {
      "text/plain": [
       "(array(['very good educational institution'], dtype=object),\n",
       " array([1], dtype=int64))"
      ]
     },
     "execution_count": 14,
     "metadata": {},
     "output_type": "execute_result"
    }
   ],
   "source": [
    "X_test, y_test"
   ]
  },
  {
   "cell_type": "code",
   "execution_count": 15,
   "id": "d16c7387",
   "metadata": {},
   "outputs": [
    {
     "name": "stdout",
     "output_type": "stream",
     "text": [
      "  (0, 2)\t1\n",
      "  (0, 4)\t1\n",
      "  (0, 7)\t1\n"
     ]
    }
   ],
   "source": [
    "X_test = cv.transform(X_test)\n",
    "print(X_test)"
   ]
  },
  {
   "cell_type": "markdown",
   "id": "8a630dd7",
   "metadata": {},
   "source": [
    "### Building the model: Multinomial Naive Bayes"
   ]
  },
  {
   "cell_type": "code",
   "execution_count": 16,
   "id": "8c157127",
   "metadata": {},
   "outputs": [],
   "source": [
    "# build model\n",
    "\n",
    "mnb = MultinomialNB()\n",
    "mnb = mnb.fit(X_train, y_train)"
   ]
  },
  {
   "cell_type": "code",
   "execution_count": 17,
   "id": "5256faa6",
   "metadata": {},
   "outputs": [
    {
     "name": "stdout",
     "output_type": "stream",
     "text": [
      "probability of test document belonging to class CINEMA [0.32808399]\n",
      "probability of test document belonging to class EDUCATION [0.67191601]\n"
     ]
    }
   ],
   "source": [
    "# predict the probability\n",
    "\n",
    "proba = mnb.predict_proba(X_test)\n",
    "print(\"probability of test document belonging to class CINEMA\" , proba[:,0])\n",
    "print(\"probability of test document belonging to class EDUCATION\" , proba[:,1])"
   ]
  },
  {
   "cell_type": "markdown",
   "id": "18d22ca9",
   "metadata": {},
   "source": [
    "### Building the model: Bernoulli Naive Bayes"
   ]
  },
  {
   "cell_type": "code",
   "execution_count": 18,
   "id": "508b709d",
   "metadata": {},
   "outputs": [],
   "source": [
    "# build model\n",
    "\n",
    "bnb = BernoulliNB()\n",
    "bnb = bnb.fit(X_train, y_train)"
   ]
  },
  {
   "cell_type": "code",
   "execution_count": 20,
   "id": "dfab87ee",
   "metadata": {
    "scrolled": true
   },
   "outputs": [
    {
     "name": "stdout",
     "output_type": "stream",
     "text": [
      "probability of test document belonging to class CINEMA [0.2326374]\n",
      "probability of test document belonging to class EDUCATION [0.7673626]\n"
     ]
    }
   ],
   "source": [
    "# predict the probability\n",
    "\n",
    "proba = bnb.predict_proba(X_test)\n",
    "print(\"probability of test document belonging to class CINEMA\" , proba[:,0])\n",
    "print(\"probability of test document belonging to class EDUCATION\" , proba[:,1])"
   ]
  },
  {
   "cell_type": "markdown",
   "id": "858fb42c",
   "metadata": {},
   "source": [
    "# Comprehension - Naive Bayes for Text Classification"
   ]
  },
  {
   "cell_type": "code",
   "execution_count": 22,
   "id": "6d8cce12",
   "metadata": {},
   "outputs": [
    {
     "data": {
      "text/html": [
       "<div>\n",
       "<style scoped>\n",
       "    .dataframe tbody tr th:only-of-type {\n",
       "        vertical-align: middle;\n",
       "    }\n",
       "\n",
       "    .dataframe tbody tr th {\n",
       "        vertical-align: top;\n",
       "    }\n",
       "\n",
       "    .dataframe thead th {\n",
       "        text-align: right;\n",
       "    }\n",
       "</style>\n",
       "<table border=\"1\" class=\"dataframe\">\n",
       "  <thead>\n",
       "    <tr style=\"text-align: right;\">\n",
       "      <th></th>\n",
       "      <th>Doc.No.</th>\n",
       "      <th>Document</th>\n",
       "      <th>Class</th>\n",
       "    </tr>\n",
       "  </thead>\n",
       "  <tbody>\n",
       "    <tr>\n",
       "      <th>0</th>\n",
       "      <td>0</td>\n",
       "      <td>Coffee Tea Soup Coffee Coffee</td>\n",
       "      <td>Hot</td>\n",
       "    </tr>\n",
       "    <tr>\n",
       "      <th>1</th>\n",
       "      <td>1</td>\n",
       "      <td>Coffee is hot and so is Soup and Tea</td>\n",
       "      <td>Hot</td>\n",
       "    </tr>\n",
       "    <tr>\n",
       "      <th>2</th>\n",
       "      <td>2</td>\n",
       "      <td>Espresso is a hot Coffee and not a Tea</td>\n",
       "      <td>Hot</td>\n",
       "    </tr>\n",
       "    <tr>\n",
       "      <th>3</th>\n",
       "      <td>3</td>\n",
       "      <td>Coffee is neither Tea nor Soup</td>\n",
       "      <td>Hot</td>\n",
       "    </tr>\n",
       "    <tr>\n",
       "      <th>4</th>\n",
       "      <td>4</td>\n",
       "      <td>Sprite Pepsi Cold Coffee and cold Tea</td>\n",
       "      <td>Cold</td>\n",
       "    </tr>\n",
       "  </tbody>\n",
       "</table>\n",
       "</div>"
      ],
      "text/plain": [
       "   Doc.No.                                Document Class\n",
       "0        0           Coffee Tea Soup Coffee Coffee   Hot\n",
       "1        1    Coffee is hot and so is Soup and Tea   Hot\n",
       "2        2  Espresso is a hot Coffee and not a Tea   Hot\n",
       "3        3          Coffee is neither Tea nor Soup   Hot\n",
       "4        4   Sprite Pepsi Cold Coffee and cold Tea  Cold"
      ]
     },
     "execution_count": 22,
     "metadata": {},
     "output_type": "execute_result"
    }
   ],
   "source": [
    "data = pd.read_csv('comp_data.csv')\n",
    "data.head()"
   ]
  },
  {
   "cell_type": "code",
   "execution_count": 23,
   "id": "fcbf37d4",
   "metadata": {},
   "outputs": [],
   "source": [
    "data['Class'] = data['Class'].map({'Hot': 0, 'Cold': 1})"
   ]
  },
  {
   "cell_type": "code",
   "execution_count": 25,
   "id": "ea106ed9",
   "metadata": {},
   "outputs": [],
   "source": [
    "X_train = np.array(data['Document'])\n",
    "y_train = np.array(data['Class'])"
   ]
  },
  {
   "cell_type": "markdown",
   "id": "572a5238",
   "metadata": {},
   "source": [
    "#### Q1) How many words will be there in the dictionary vector without stop words?"
   ]
  },
  {
   "cell_type": "code",
   "execution_count": 32,
   "id": "e9090c21",
   "metadata": {},
   "outputs": [
    {
     "data": {
      "text/plain": [
       "8"
      ]
     },
     "execution_count": 32,
     "metadata": {},
     "output_type": "execute_result"
    }
   ],
   "source": [
    "cv = CountVectorizer(stop_words='english')\n",
    "voc = cv.fit(X_train).vocabulary_\n",
    "len(voc)"
   ]
  },
  {
   "cell_type": "markdown",
   "id": "a08b947d",
   "metadata": {},
   "source": [
    "**Q2) What will be the feature vector after transforming the document:**\n",
    "\n",
    "**“Coffee is neither Tea nor Soup”  look like?**\n",
    "\n",
    "**The words in the dictionary are ordered in the way shown below :**\n",
    "\n",
    "**coffee | cold | espresso | hot | pepsi | soup | sprite | tea**"
   ]
  },
  {
   "cell_type": "code",
   "execution_count": 33,
   "id": "1f69e8c2",
   "metadata": {},
   "outputs": [
    {
     "data": {
      "text/plain": [
       "{'coffee': 0,\n",
       " 'tea': 7,\n",
       " 'soup': 5,\n",
       " 'hot': 3,\n",
       " 'espresso': 2,\n",
       " 'sprite': 6,\n",
       " 'pepsi': 4,\n",
       " 'cold': 1}"
      ]
     },
     "execution_count": 33,
     "metadata": {},
     "output_type": "execute_result"
    }
   ],
   "source": [
    "voc"
   ]
  },
  {
   "cell_type": "code",
   "execution_count": 37,
   "id": "4cd94a27",
   "metadata": {},
   "outputs": [
    {
     "data": {
      "text/plain": [
       "array([[3, 0, 0, 0, 0, 1, 0, 1],\n",
       "       [1, 0, 0, 1, 0, 1, 0, 1],\n",
       "       [1, 0, 1, 1, 0, 0, 0, 1],\n",
       "       [1, 0, 0, 0, 0, 1, 0, 1],\n",
       "       [1, 2, 0, 0, 1, 0, 1, 1]], dtype=int64)"
      ]
     },
     "execution_count": 37,
     "metadata": {},
     "output_type": "execute_result"
    }
   ],
   "source": [
    "doc_mat = cv.transform(X_train)\n",
    "doc_mat.toarray()"
   ]
  },
  {
   "cell_type": "markdown",
   "id": "3fb1dc73",
   "metadata": {},
   "source": [
    "**Q3) What will be the feature vector after transforming the document:**\n",
    "\n",
    "**“I hate cold Coffee but love Tea and hot Coffee”  look like?**\n",
    "\n",
    "**The words in the dictionary are ordered in the way shown below :**\n",
    "\n",
    "**coffee | cold | espresso | hot | pepsi | soup | sprite | tea**"
   ]
  },
  {
   "cell_type": "code",
   "execution_count": 38,
   "id": "cdd0cb17",
   "metadata": {},
   "outputs": [
    {
     "data": {
      "text/plain": [
       "array([[2, 1, 0, 1, 0, 0, 0, 1]], dtype=int64)"
      ]
     },
     "execution_count": 38,
     "metadata": {},
     "output_type": "execute_result"
    }
   ],
   "source": [
    "doc_mat = cv.transform(['I hate cold Coffee but love Tea and hot Coffee'])\n",
    "doc_mat.toarray()"
   ]
  },
  {
   "cell_type": "code",
   "execution_count": null,
   "id": "7cec8653",
   "metadata": {},
   "outputs": [],
   "source": []
  }
 ],
 "metadata": {
  "kernelspec": {
   "display_name": "Python 3 (ipykernel)",
   "language": "python",
   "name": "python3"
  },
  "language_info": {
   "codemirror_mode": {
    "name": "ipython",
    "version": 3
   },
   "file_extension": ".py",
   "mimetype": "text/x-python",
   "name": "python",
   "nbconvert_exporter": "python",
   "pygments_lexer": "ipython3",
   "version": "3.11.5"
  }
 },
 "nbformat": 4,
 "nbformat_minor": 5
}
